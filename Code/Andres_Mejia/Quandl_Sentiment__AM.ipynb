{
 "cells": [
  {
   "cell_type": "code",
   "execution_count": 9,
   "metadata": {},
   "outputs": [],
   "source": [
    "import quandl\n",
    "import pandas as pd\n",
    "import os\n",
    "from pathlib import Path\n",
    "import datetime"
   ]
  },
  {
   "cell_type": "code",
   "execution_count": 15,
   "metadata": {},
   "outputs": [
    {
     "data": {
      "text/html": [
       "<div>\n",
       "<style scoped>\n",
       "    .dataframe tbody tr th:only-of-type {\n",
       "        vertical-align: middle;\n",
       "    }\n",
       "\n",
       "    .dataframe tbody tr th {\n",
       "        vertical-align: top;\n",
       "    }\n",
       "\n",
       "    .dataframe thead th {\n",
       "        text-align: right;\n",
       "    }\n",
       "</style>\n",
       "<table border=\"1\" class=\"dataframe\">\n",
       "  <thead>\n",
       "    <tr style=\"text-align: right;\">\n",
       "      <th></th>\n",
       "      <th>Bullish</th>\n",
       "      <th>Neutral</th>\n",
       "      <th>Bearish</th>\n",
       "    </tr>\n",
       "    <tr>\n",
       "      <th>Date</th>\n",
       "      <th></th>\n",
       "      <th></th>\n",
       "      <th></th>\n",
       "    </tr>\n",
       "  </thead>\n",
       "  <tbody>\n",
       "    <tr>\n",
       "      <td>2003-01-02</td>\n",
       "      <td>0.3243</td>\n",
       "      <td>0.2973</td>\n",
       "      <td>0.3784</td>\n",
       "    </tr>\n",
       "    <tr>\n",
       "      <td>2003-01-09</td>\n",
       "      <td>0.3810</td>\n",
       "      <td>0.1905</td>\n",
       "      <td>0.4286</td>\n",
       "    </tr>\n",
       "    <tr>\n",
       "      <td>2003-01-16</td>\n",
       "      <td>0.2917</td>\n",
       "      <td>0.4167</td>\n",
       "      <td>0.2917</td>\n",
       "    </tr>\n",
       "    <tr>\n",
       "      <td>2003-01-23</td>\n",
       "      <td>0.2500</td>\n",
       "      <td>0.3182</td>\n",
       "      <td>0.4318</td>\n",
       "    </tr>\n",
       "    <tr>\n",
       "      <td>2003-01-30</td>\n",
       "      <td>0.2553</td>\n",
       "      <td>0.2660</td>\n",
       "      <td>0.4787</td>\n",
       "    </tr>\n",
       "  </tbody>\n",
       "</table>\n",
       "</div>"
      ],
      "text/plain": [
       "            Bullish  Neutral  Bearish\n",
       "Date                                 \n",
       "2003-01-02   0.3243   0.2973   0.3784\n",
       "2003-01-09   0.3810   0.1905   0.4286\n",
       "2003-01-16   0.2917   0.4167   0.2917\n",
       "2003-01-23   0.2500   0.3182   0.4318\n",
       "2003-01-30   0.2553   0.2660   0.4787"
      ]
     },
     "execution_count": 15,
     "metadata": {},
     "output_type": "execute_result"
    }
   ],
   "source": [
    "# Setting the quandl API key variable within the quandl class\n",
    "\n",
    "quandl.ApiConfig.api_key = os.getenv(\"QUANDL_API_KEY\")\n",
    "\n",
    "# Getting the Sentiment Data from quandl\n",
    "\n",
    "sentiment_data = pd.DataFrame(quandl.get([\"AAII/AAII_SENTIMENT.1\", \"AAII/AAII_SENTIMENT.2\", \"AAII/AAII_SENTIMENT.3\"], start_date = \"2003-01-01\", end_date = \"2020-02-01\"))\n",
    "sentiment_data.columns = ['Bullish', 'Neutral', 'Bearish']\n",
    "#sentiment_data.reset_index(inplace = True)\n",
    "sentiment_data.head()"
   ]
  },
  {
   "cell_type": "code",
   "execution_count": 16,
   "metadata": {},
   "outputs": [],
   "source": [
    "sentiment_data.to_csv(\"AAII_Sentiment_20030101_20200201.csv\")"
   ]
  },
  {
   "cell_type": "code",
   "execution_count": null,
   "metadata": {},
   "outputs": [],
   "source": []
  }
 ],
 "metadata": {
  "kernelspec": {
   "display_name": "Python 3",
   "language": "python",
   "name": "python3"
  },
  "language_info": {
   "codemirror_mode": {
    "name": "ipython",
    "version": 3
   },
   "file_extension": ".py",
   "mimetype": "text/x-python",
   "name": "python",
   "nbconvert_exporter": "python",
   "pygments_lexer": "ipython3",
   "version": "3.7.4"
  }
 },
 "nbformat": 4,
 "nbformat_minor": 4
}
