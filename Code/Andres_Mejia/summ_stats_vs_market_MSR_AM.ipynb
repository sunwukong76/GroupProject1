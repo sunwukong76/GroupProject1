{
 "cells": [
  {
   "cell_type": "code",
   "execution_count": 50,
   "metadata": {},
   "outputs": [],
   "source": [
    "import pandas as pd\n",
    "import calendar\n",
    "import plotly.express as px\n",
    "from plotly.subplots import make_subplots\n",
    "import plotly.graph_objects as go\n",
    "import hvplot.pandas\n",
    "import numpy as np\n",
    "from pathlib import Path"
   ]
  },
  {
   "cell_type": "markdown",
   "metadata": {},
   "source": [
    "# DATA IMPORT & CLEAN\n",
    "Bringing in the 3 different disease summary statistics that we found, as well as the SPY, Gold, and Treasury indexes."
   ]
  },
  {
   "cell_type": "markdown",
   "metadata": {},
   "source": [
    "---"
   ]
  },
  {
   "cell_type": "markdown",
   "metadata": {},
   "source": [
    "### DISEASE STATS FIRST"
   ]
  },
  {
   "cell_type": "code",
   "execution_count": 51,
   "metadata": {},
   "outputs": [],
   "source": [
    "# Reading whale returns\n",
    "ebola_path = Path('../Matthew_Richards/ebola_summ_stats_MSR.csv')\n",
    "sars_path = Path('../Matthew_Richards/sars_summ_stats_MSR.csv')\n",
    "zika_path = Path('../Matthew_Richards/zika_summ_stats_MSR.csv')\n",
    "\n",
    "#READ IN DATA, DATE-TIME FORMAT.\n",
    "ebola_df = pd.read_csv(ebola_path)\n",
    "ebola_df[\"Date\"]=pd.to_datetime(ebola_df[\"date\"])\n",
    "\n",
    "zika_df = pd.read_csv(zika_path)\n",
    "zika_df[\"Date\"]=pd.to_datetime(zika_df[\"report_date\"])\n",
    "\n",
    "sars_df = pd.read_csv(sars_path)\n",
    "sars_df[\"Date\"]=pd.to_datetime(sars_df[\"date\"])"
   ]
  },
  {
   "cell_type": "code",
   "execution_count": 52,
   "metadata": {},
   "outputs": [],
   "source": [
    "ebola=ebola_df.set_index(ebola_df['Date']).drop(columns=['date','Date'])"
   ]
  },
  {
   "cell_type": "code",
   "execution_count": 53,
   "metadata": {},
   "outputs": [],
   "source": [
    "# ebola"
   ]
  },
  {
   "cell_type": "code",
   "execution_count": 54,
   "metadata": {},
   "outputs": [],
   "source": [
    "sars=sars_df.set_index(sars_df['Date']).drop(columns=['date','Date'])"
   ]
  },
  {
   "cell_type": "code",
   "execution_count": 55,
   "metadata": {},
   "outputs": [],
   "source": [
    "# sars.head()"
   ]
  },
  {
   "cell_type": "code",
   "execution_count": 56,
   "metadata": {},
   "outputs": [],
   "source": [
    "zika=zika_df.set_index(zika_df['Date']).drop(columns=['Date'])"
   ]
  },
  {
   "cell_type": "code",
   "execution_count": 57,
   "metadata": {},
   "outputs": [],
   "source": [
    "# zika.head()"
   ]
  },
  {
   "cell_type": "markdown",
   "metadata": {},
   "source": [
    "---\n",
    "### Looks good, now onto news data.\n",
    "Going to pull in the news code from Travis's work. The goal is to create a dataframe with news and disease information. \n",
    "It is possible that we don't pull this information into a single dataframe, and just plot separate dataframes. \n",
    "As long as the dates line up, we should be able to see visual effects in a plot. \n",
    "\n",
    "However, if we are trying to do some math on the datasets, we would want them combined.\n",
    "\n",
    "## HERE'S WHAT I DID:\n",
    "Ok, so we know that on some days of the news cycle, a bunch of articles came out. So i wanted to get an accurate descrption of that fact. \n",
    "This way we can possibly play with the data two ways. 1: we can scale the velocity/position/acceleration of the illness/death with the number of news articles that came out that day about the disease. 2: we can just use it as a yes/no value as we did in travis's previous code. \n",
    "Either way, i concatenated the data. It was taking WAY too long to write a for loop. \n",
    "\n",
    "I also put everything into a function because I wanted to learn how to do it, and it'll take less space. Cheers!"
   ]
  },
  {
   "cell_type": "markdown",
   "metadata": {},
   "source": [
    "---\n",
    "# NEWS DATA IMPORT AND CLEAN"
   ]
  },
  {
   "cell_type": "code",
   "execution_count": 58,
   "metadata": {},
   "outputs": [],
   "source": [
    "ebola_news_path = Path('../Travis_Smith/Ebola_edit.csv')\n",
    "sars_news_path = Path('../Travis_Smith/Sars_edit.csv')\n",
    "zika_news_path = Path('../Travis_Smith/Zika_edit.csv')\n",
    "\n",
    "#READ IN DATA,  CONVERT TO DATE-TIME FORMAT.\n",
    "ebola_news_df = pd.read_csv(ebola_news_path)\n",
    "ebola_news_df[\"Date\"]=pd.to_datetime(ebola_news_df[\"Date_format\"])\n",
    "\n",
    "sars_news_df = pd.read_csv(sars_news_path)\n",
    "sars_news_df[\"Date\"]=pd.to_datetime(sars_news_df[\"Format_date\"])\n",
    "\n",
    "zika_news_df = pd.read_csv(zika_news_path)\n",
    "zika_news_df[\"Date\"]=pd.to_datetime(zika_news_df[\"Date_format\"])"
   ]
  },
  {
   "cell_type": "code",
   "execution_count": 59,
   "metadata": {},
   "outputs": [],
   "source": [
    "#"
   ]
  },
  {
   "cell_type": "code",
   "execution_count": 60,
   "metadata": {},
   "outputs": [],
   "source": [
    "def news_count(df): \n",
    "    df = df.drop(columns=['dates','Unnamed: 0']).sort_values('Date')\n",
    "    df = df.groupby(['Date']).size().reset_index(name='news_count')\n",
    "    df = df.set_index('Date')\n",
    "    return df"
   ]
  },
  {
   "cell_type": "code",
   "execution_count": 61,
   "metadata": {},
   "outputs": [],
   "source": [
    "# ebola_news = news_count(ebola_news_df)\n",
    "# ebola_news"
   ]
  },
  {
   "cell_type": "code",
   "execution_count": 62,
   "metadata": {},
   "outputs": [],
   "source": [
    "def concat_df(df1,disease):\n",
    "    x = pd.DataFrame()\n",
    "    x = pd.concat([disease,df1],axis = 'columns', join = 'inner')\n",
    "    return x"
   ]
  },
  {
   "cell_type": "code",
   "execution_count": 63,
   "metadata": {},
   "outputs": [],
   "source": [
    "ebola_news = news_count(ebola_news_df)\n",
    "ebola_con = concat_df(ebola_news,disease=ebola)"
   ]
  },
  {
   "cell_type": "code",
   "execution_count": 64,
   "metadata": {},
   "outputs": [],
   "source": [
    "sars_news = news_count(sars_news_df)\n",
    "sars_con = concat_df(sars_news,disease=sars)"
   ]
  },
  {
   "cell_type": "code",
   "execution_count": 65,
   "metadata": {},
   "outputs": [],
   "source": [
    "zika_news = news_count(zika_news_df)\n",
    "zika_con = concat_df(zika_news,disease=zika)"
   ]
  },
  {
   "cell_type": "code",
   "execution_count": 85,
   "metadata": {},
   "outputs": [
    {
     "data": {
      "text/html": [
       "<div>\n",
       "<style scoped>\n",
       "    .dataframe tbody tr th:only-of-type {\n",
       "        vertical-align: middle;\n",
       "    }\n",
       "\n",
       "    .dataframe tbody tr th {\n",
       "        vertical-align: top;\n",
       "    }\n",
       "\n",
       "    .dataframe thead th {\n",
       "        text-align: right;\n",
       "    }\n",
       "</style>\n",
       "<table border=\"1\" class=\"dataframe\">\n",
       "  <thead>\n",
       "    <tr style=\"text-align: right;\">\n",
       "      <th></th>\n",
       "      <th>report_date</th>\n",
       "      <th>ill_pos</th>\n",
       "      <th>illness</th>\n",
       "      <th>illness_v</th>\n",
       "      <th>illness_a</th>\n",
       "      <th>news_count</th>\n",
       "    </tr>\n",
       "    <tr>\n",
       "      <th>Date</th>\n",
       "      <th></th>\n",
       "      <th></th>\n",
       "      <th></th>\n",
       "      <th></th>\n",
       "      <th></th>\n",
       "      <th></th>\n",
       "    </tr>\n",
       "  </thead>\n",
       "  <tbody>\n",
       "    <tr>\n",
       "      <td>2016-02-16</td>\n",
       "      <td>2016-02-16</td>\n",
       "      <td>122</td>\n",
       "      <td>122</td>\n",
       "      <td>0.00</td>\n",
       "      <td>0.00</td>\n",
       "      <td>1</td>\n",
       "    </tr>\n",
       "    <tr>\n",
       "      <td>2016-02-23</td>\n",
       "      <td>2016-02-23</td>\n",
       "      <td>198</td>\n",
       "      <td>320</td>\n",
       "      <td>10.86</td>\n",
       "      <td>1.55</td>\n",
       "      <td>1</td>\n",
       "    </tr>\n",
       "    <tr>\n",
       "      <td>2016-03-29</td>\n",
       "      <td>2016-03-29</td>\n",
       "      <td>154</td>\n",
       "      <td>1072</td>\n",
       "      <td>-4.86</td>\n",
       "      <td>-0.69</td>\n",
       "      <td>1</td>\n",
       "    </tr>\n",
       "    <tr>\n",
       "      <td>2016-04-05</td>\n",
       "      <td>2016-04-05</td>\n",
       "      <td>296</td>\n",
       "      <td>1368</td>\n",
       "      <td>20.29</td>\n",
       "      <td>3.59</td>\n",
       "      <td>1</td>\n",
       "    </tr>\n",
       "    <tr>\n",
       "      <td>2016-04-19</td>\n",
       "      <td>2016-04-19</td>\n",
       "      <td>790</td>\n",
       "      <td>2512</td>\n",
       "      <td>62.29</td>\n",
       "      <td>7.71</td>\n",
       "      <td>1</td>\n",
       "    </tr>\n",
       "  </tbody>\n",
       "</table>\n",
       "</div>"
      ],
      "text/plain": [
       "           report_date  ill_pos  illness  illness_v  illness_a  news_count\n",
       "Date                                                                      \n",
       "2016-02-16  2016-02-16      122      122       0.00       0.00           1\n",
       "2016-02-23  2016-02-23      198      320      10.86       1.55           1\n",
       "2016-03-29  2016-03-29      154     1072      -4.86      -0.69           1\n",
       "2016-04-05  2016-04-05      296     1368      20.29       3.59           1\n",
       "2016-04-19  2016-04-19      790     2512      62.29       7.71           1"
      ]
     },
     "execution_count": 85,
     "metadata": {},
     "output_type": "execute_result"
    }
   ],
   "source": [
    "zika_con.head(20)"
   ]
  },
  {
   "cell_type": "code",
   "execution_count": 78,
   "metadata": {},
   "outputs": [
    {
     "data": {
      "text/html": [
       "<div>\n",
       "<style scoped>\n",
       "    .dataframe tbody tr th:only-of-type {\n",
       "        vertical-align: middle;\n",
       "    }\n",
       "\n",
       "    .dataframe tbody tr th {\n",
       "        vertical-align: top;\n",
       "    }\n",
       "\n",
       "    .dataframe thead th {\n",
       "        text-align: right;\n",
       "    }\n",
       "</style>\n",
       "<table border=\"1\" class=\"dataframe\">\n",
       "  <thead>\n",
       "    <tr style=\"text-align: right;\">\n",
       "      <th></th>\n",
       "      <th>illness</th>\n",
       "      <th>death</th>\n",
       "      <th>illness_pos</th>\n",
       "      <th>illness_v</th>\n",
       "      <th>illness_a</th>\n",
       "      <th>death_pos</th>\n",
       "      <th>death_v</th>\n",
       "      <th>death_a</th>\n",
       "      <th>news_count</th>\n",
       "    </tr>\n",
       "    <tr>\n",
       "      <th>Date</th>\n",
       "      <th></th>\n",
       "      <th></th>\n",
       "      <th></th>\n",
       "      <th></th>\n",
       "      <th></th>\n",
       "      <th></th>\n",
       "      <th></th>\n",
       "      <th></th>\n",
       "      <th></th>\n",
       "    </tr>\n",
       "  </thead>\n",
       "  <tbody>\n",
       "    <tr>\n",
       "      <td>2003-06-27</td>\n",
       "      <td>8450</td>\n",
       "      <td>810</td>\n",
       "      <td>-6.0</td>\n",
       "      <td>-2.00</td>\n",
       "      <td>4.00</td>\n",
       "      <td>1.00</td>\n",
       "      <td>0.00</td>\n",
       "      <td>0.00</td>\n",
       "      <td>1</td>\n",
       "    </tr>\n",
       "    <tr>\n",
       "      <td>2003-06-30</td>\n",
       "      <td>8447</td>\n",
       "      <td>811</td>\n",
       "      <td>-1.0</td>\n",
       "      <td>1.67</td>\n",
       "      <td>1.22</td>\n",
       "      <td>0.33</td>\n",
       "      <td>-0.22</td>\n",
       "      <td>-0.07</td>\n",
       "      <td>2</td>\n",
       "    </tr>\n",
       "    <tr>\n",
       "      <td>2003-07-01</td>\n",
       "      <td>8445</td>\n",
       "      <td>812</td>\n",
       "      <td>-2.0</td>\n",
       "      <td>-1.00</td>\n",
       "      <td>-2.67</td>\n",
       "      <td>1.00</td>\n",
       "      <td>0.67</td>\n",
       "      <td>0.89</td>\n",
       "      <td>4</td>\n",
       "    </tr>\n",
       "    <tr>\n",
       "      <td>2003-07-02</td>\n",
       "      <td>8442</td>\n",
       "      <td>812</td>\n",
       "      <td>-3.0</td>\n",
       "      <td>-1.00</td>\n",
       "      <td>0.00</td>\n",
       "      <td>0.00</td>\n",
       "      <td>-1.00</td>\n",
       "      <td>-1.67</td>\n",
       "      <td>3</td>\n",
       "    </tr>\n",
       "    <tr>\n",
       "      <td>2003-07-03</td>\n",
       "      <td>8439</td>\n",
       "      <td>812</td>\n",
       "      <td>-3.0</td>\n",
       "      <td>0.00</td>\n",
       "      <td>1.00</td>\n",
       "      <td>0.00</td>\n",
       "      <td>0.00</td>\n",
       "      <td>1.00</td>\n",
       "      <td>5</td>\n",
       "    </tr>\n",
       "  </tbody>\n",
       "</table>\n",
       "</div>"
      ],
      "text/plain": [
       "            illness  death  illness_pos  illness_v  illness_a  death_pos  \\\n",
       "Date                                                                       \n",
       "2003-06-27     8450    810         -6.0      -2.00       4.00       1.00   \n",
       "2003-06-30     8447    811         -1.0       1.67       1.22       0.33   \n",
       "2003-07-01     8445    812         -2.0      -1.00      -2.67       1.00   \n",
       "2003-07-02     8442    812         -3.0      -1.00       0.00       0.00   \n",
       "2003-07-03     8439    812         -3.0       0.00       1.00       0.00   \n",
       "\n",
       "            death_v  death_a  news_count  \n",
       "Date                                      \n",
       "2003-06-27     0.00     0.00           1  \n",
       "2003-06-30    -0.22    -0.07           2  \n",
       "2003-07-01     0.67     0.89           4  \n",
       "2003-07-02    -1.00    -1.67           3  \n",
       "2003-07-03     0.00     1.00           5  "
      ]
     },
     "execution_count": 78,
     "metadata": {},
     "output_type": "execute_result"
    }
   ],
   "source": [
    "sars_con.tail()"
   ]
  },
  {
   "cell_type": "code",
   "execution_count": 71,
   "metadata": {},
   "outputs": [
    {
     "data": {
      "text/html": [
       "<div>\n",
       "<style scoped>\n",
       "    .dataframe tbody tr th:only-of-type {\n",
       "        vertical-align: middle;\n",
       "    }\n",
       "\n",
       "    .dataframe tbody tr th {\n",
       "        vertical-align: top;\n",
       "    }\n",
       "\n",
       "    .dataframe thead th {\n",
       "        text-align: right;\n",
       "    }\n",
       "</style>\n",
       "<table border=\"1\" class=\"dataframe\">\n",
       "  <thead>\n",
       "    <tr style=\"text-align: right;\">\n",
       "      <th></th>\n",
       "      <th>death</th>\n",
       "      <th>illness</th>\n",
       "      <th>death_pos</th>\n",
       "      <th>death_v</th>\n",
       "      <th>death_a</th>\n",
       "      <th>illness_pos</th>\n",
       "      <th>illness_v</th>\n",
       "      <th>illness_a</th>\n",
       "      <th>news_count</th>\n",
       "    </tr>\n",
       "    <tr>\n",
       "      <th>Date</th>\n",
       "      <th></th>\n",
       "      <th></th>\n",
       "      <th></th>\n",
       "      <th></th>\n",
       "      <th></th>\n",
       "      <th></th>\n",
       "      <th></th>\n",
       "      <th></th>\n",
       "      <th></th>\n",
       "    </tr>\n",
       "  </thead>\n",
       "  <tbody>\n",
       "    <tr>\n",
       "      <td>2014-10-01</td>\n",
       "      <td>3338.0</td>\n",
       "      <td>7178.0</td>\n",
       "      <td>49.4</td>\n",
       "      <td>-7.52</td>\n",
       "      <td>-4.90</td>\n",
       "      <td>120.8</td>\n",
       "      <td>-6.94</td>\n",
       "      <td>3.01</td>\n",
       "      <td>3</td>\n",
       "    </tr>\n",
       "    <tr>\n",
       "      <td>2014-10-03</td>\n",
       "      <td>3439.0</td>\n",
       "      <td>7492.0</td>\n",
       "      <td>50.5</td>\n",
       "      <td>0.55</td>\n",
       "      <td>4.04</td>\n",
       "      <td>157.0</td>\n",
       "      <td>18.10</td>\n",
       "      <td>12.52</td>\n",
       "      <td>1</td>\n",
       "    </tr>\n",
       "    <tr>\n",
       "      <td>2014-10-08</td>\n",
       "      <td>3865.0</td>\n",
       "      <td>8033.0</td>\n",
       "      <td>85.2</td>\n",
       "      <td>6.94</td>\n",
       "      <td>1.28</td>\n",
       "      <td>108.2</td>\n",
       "      <td>-9.76</td>\n",
       "      <td>-5.57</td>\n",
       "      <td>3</td>\n",
       "    </tr>\n",
       "    <tr>\n",
       "      <td>2014-10-10</td>\n",
       "      <td>4032.0</td>\n",
       "      <td>8399.0</td>\n",
       "      <td>83.5</td>\n",
       "      <td>-0.85</td>\n",
       "      <td>-3.90</td>\n",
       "      <td>183.0</td>\n",
       "      <td>37.40</td>\n",
       "      <td>23.58</td>\n",
       "      <td>5</td>\n",
       "    </tr>\n",
       "    <tr>\n",
       "      <td>2014-10-15</td>\n",
       "      <td>4493.0</td>\n",
       "      <td>8997.0</td>\n",
       "      <td>92.2</td>\n",
       "      <td>1.74</td>\n",
       "      <td>0.52</td>\n",
       "      <td>119.6</td>\n",
       "      <td>-12.68</td>\n",
       "      <td>-10.02</td>\n",
       "      <td>2</td>\n",
       "    </tr>\n",
       "  </tbody>\n",
       "</table>\n",
       "</div>"
      ],
      "text/plain": [
       "             death  illness  death_pos  death_v  death_a  illness_pos  \\\n",
       "Date                                                                    \n",
       "2014-10-01  3338.0   7178.0       49.4    -7.52    -4.90        120.8   \n",
       "2014-10-03  3439.0   7492.0       50.5     0.55     4.04        157.0   \n",
       "2014-10-08  3865.0   8033.0       85.2     6.94     1.28        108.2   \n",
       "2014-10-10  4032.0   8399.0       83.5    -0.85    -3.90        183.0   \n",
       "2014-10-15  4493.0   8997.0       92.2     1.74     0.52        119.6   \n",
       "\n",
       "            illness_v  illness_a  news_count  \n",
       "Date                                          \n",
       "2014-10-01      -6.94       3.01           3  \n",
       "2014-10-03      18.10      12.52           1  \n",
       "2014-10-08      -9.76      -5.57           3  \n",
       "2014-10-10      37.40      23.58           5  \n",
       "2014-10-15     -12.68     -10.02           2  "
      ]
     },
     "execution_count": 71,
     "metadata": {},
     "output_type": "execute_result"
    }
   ],
   "source": [
    "ebola_con.head()"
   ]
  },
  {
   "cell_type": "code",
   "execution_count": 110,
   "metadata": {},
   "outputs": [],
   "source": [
    "# Classify death/illness/news_count into H/M/L categories\n",
    "\n",
    "group_names = ['L', 'M', 'H']\n",
    "\n",
    "ebola_change = ebola_con[['death', 'illness', 'news_count']].pct_change().abs().dropna()\n",
    "ebola_min = ebola_change.min()\n",
    "ebola_mean = ebola_change.mean()\n",
    "ebola_max = ebola_change.max()\n",
    "ebola_mid = ((ebola_max-ebola_mean)/2)+ebola_mean\n",
    "\n",
    "for col in ('death', 'illness', 'news_count'):\n",
    "    ebola_change[f'{col}_H/M/L'] = pd.cut(ebola_change[f'{col}'], [ebola_min[f'{col}'], ebola_mean[f'{col}'], ebola_mid[f'{col}'], ebola_max[f'{col}']],labels=group_names, include_lowest=True)\n",
    "ebola_change.drop(columns=['death', 'illness', 'news_count'], inplace=True)\n",
    "\n",
    "sars_change = sars_con[['death', 'illness', 'news_count']].pct_change().abs().dropna()\n",
    "sars_min = sars_change.min()\n",
    "sars_mean = sars_change.mean()\n",
    "sars_max = sars_change.max()\n",
    "sars_mid = ((sars_max-sars_mean)/2)+sars_mean\n",
    "\n",
    "for col in ('death', 'illness', 'news_count'):\n",
    "    sars_change[f'{col}_H/M/L'] = pd.cut(sars_change[f'{col}'], [sars_min[f'{col}'], sars_mean[f'{col}'], sars_mid[f'{col}'], sars_max[f'{col}']],labels=group_names, include_lowest=True)\n",
    "sars_change.drop(columns=['death', 'illness', 'news_count'], inplace=True)\n",
    "\n",
    "zika_change = zika_con[['illness', 'news_count']].pct_change().abs().dropna()\n",
    "zika_min = zika_change.min()\n",
    "zika_mean = zika_change.mean()\n",
    "zika_max = zika_change.max()\n",
    "zika_mid = ((zika_max-zika_mean)/2)+zika_mean\n",
    "\n",
    "zika_change['death_H/M/L'] = 'M' # ---As we don't have data for deaths, assume 'M' level---\n",
    "#for col in ('illness', 'news_count'):\n",
    "col = 'illness'\n",
    "zika_change[f'{col}_H/M/L'] = pd.cut(zika_change[f'{col}'], [zika_min[f'{col}'], zika_mean[f'{col}'], zika_mid[f'{col}'], zika_max[f'{col}']],labels=group_names, include_lowest=True)\n",
    "zika_change['news_count_H/M/L'] = 'M' # ---As we don't have clear data for news, assume 'M' level---\n",
    "zika_change.drop(columns=['illness', 'news_count'], inplace=True)"
   ]
  },
  {
   "cell_type": "code",
   "execution_count": 112,
   "metadata": {},
   "outputs": [
    {
     "data": {
      "text/html": [
       "<div>\n",
       "<style scoped>\n",
       "    .dataframe tbody tr th:only-of-type {\n",
       "        vertical-align: middle;\n",
       "    }\n",
       "\n",
       "    .dataframe tbody tr th {\n",
       "        vertical-align: top;\n",
       "    }\n",
       "\n",
       "    .dataframe thead th {\n",
       "        text-align: right;\n",
       "    }\n",
       "</style>\n",
       "<table border=\"1\" class=\"dataframe\">\n",
       "  <thead>\n",
       "    <tr style=\"text-align: right;\">\n",
       "      <th></th>\n",
       "      <th>death_H/M/L</th>\n",
       "      <th>illness_H/M/L</th>\n",
       "      <th>news_count_H/M/L</th>\n",
       "    </tr>\n",
       "    <tr>\n",
       "      <th>Date</th>\n",
       "      <th></th>\n",
       "      <th></th>\n",
       "      <th></th>\n",
       "    </tr>\n",
       "  </thead>\n",
       "  <tbody>\n",
       "    <tr>\n",
       "      <td>2014-10-03</td>\n",
       "      <td>M</td>\n",
       "      <td>M</td>\n",
       "      <td>M</td>\n",
       "    </tr>\n",
       "    <tr>\n",
       "      <td>2014-10-08</td>\n",
       "      <td>H</td>\n",
       "      <td>M</td>\n",
       "      <td>H</td>\n",
       "    </tr>\n",
       "    <tr>\n",
       "      <td>2014-10-10</td>\n",
       "      <td>M</td>\n",
       "      <td>M</td>\n",
       "      <td>M</td>\n",
       "    </tr>\n",
       "    <tr>\n",
       "      <td>2014-10-15</td>\n",
       "      <td>H</td>\n",
       "      <td>M</td>\n",
       "      <td>M</td>\n",
       "    </tr>\n",
       "    <tr>\n",
       "      <td>2014-10-17</td>\n",
       "      <td>L</td>\n",
       "      <td>M</td>\n",
       "      <td>H</td>\n",
       "    </tr>\n",
       "    <tr>\n",
       "      <td>...</td>\n",
       "      <td>...</td>\n",
       "      <td>...</td>\n",
       "      <td>...</td>\n",
       "    </tr>\n",
       "    <tr>\n",
       "      <td>2015-12-03</td>\n",
       "      <td>L</td>\n",
       "      <td>L</td>\n",
       "      <td>L</td>\n",
       "    </tr>\n",
       "    <tr>\n",
       "      <td>2015-12-09</td>\n",
       "      <td>L</td>\n",
       "      <td>L</td>\n",
       "      <td>L</td>\n",
       "    </tr>\n",
       "    <tr>\n",
       "      <td>2015-12-10</td>\n",
       "      <td>L</td>\n",
       "      <td>L</td>\n",
       "      <td>L</td>\n",
       "    </tr>\n",
       "    <tr>\n",
       "      <td>2015-12-23</td>\n",
       "      <td>L</td>\n",
       "      <td>L</td>\n",
       "      <td>M</td>\n",
       "    </tr>\n",
       "    <tr>\n",
       "      <td>2015-12-29</td>\n",
       "      <td>L</td>\n",
       "      <td>L</td>\n",
       "      <td>L</td>\n",
       "    </tr>\n",
       "  </tbody>\n",
       "</table>\n",
       "<p>93 rows × 3 columns</p>\n",
       "</div>"
      ],
      "text/plain": [
       "           death_H/M/L illness_H/M/L news_count_H/M/L\n",
       "Date                                                 \n",
       "2014-10-03           M             M                M\n",
       "2014-10-08           H             M                H\n",
       "2014-10-10           M             M                M\n",
       "2014-10-15           H             M                M\n",
       "2014-10-17           L             M                H\n",
       "...                ...           ...              ...\n",
       "2015-12-03           L             L                L\n",
       "2015-12-09           L             L                L\n",
       "2015-12-10           L             L                L\n",
       "2015-12-23           L             L                M\n",
       "2015-12-29           L             L                L\n",
       "\n",
       "[93 rows x 3 columns]"
      ]
     },
     "execution_count": 112,
     "metadata": {},
     "output_type": "execute_result"
    }
   ],
   "source": [
    "zika_change.to_csv(\"Resources/zika_HML.csv\", encoding='utf-8')\n",
    "sars_change.to_csv(\"Resources/sars_HML.csv\", encoding='utf-8')\n",
    "ebola_change.to_csv(\"Resources/ebola_HML.csv\", encoding='utf-8')\n",
    "ebola_change"
   ]
  },
  {
   "cell_type": "markdown",
   "metadata": {},
   "source": [
    "---\n",
    "### LOOKING GOOD. NEXT, ON TO MARKETS ANALYSIS\n",
    "HAVEN'T MESSED OR FINISHED THIS YET. "
   ]
  },
  {
   "cell_type": "code",
   "execution_count": 1,
   "metadata": {},
   "outputs": [],
   "source": [
    "# ebola_spy_path = Path('../Andres_Mejia/SPY_Sectors_Ebola_AM.csv')\n",
    "# sars_spy_path = Path('../Andres_Mejia/SPY_Sectors_SARS_AM.csv')\n",
    "# zika_spy_path = Path('../Andres_Mejia/SPY_Sectors_Zika_AM.csv')\n",
    "\n",
    "# #READ IN DATA, DATE-TIME FORMAT.\n",
    "# ebola_spy_df = pd.read_csv(ebola_spy_path)\n",
    "# ebola_spy_df[\"Date\"]=pd.to_datetime(ebola_spy_df[\"Date\"])\n",
    "\n",
    "# sars_spy_df = pd.read_csv(sars_spy_path)\n",
    "# sars_spy_df[\"Date\"]=pd.to_datetime(sars_spy_df[\"Date\"])\n",
    "\n",
    "# zika_spy_df = pd.read_csv(zika_spy_path)\n",
    "# zika_spy_df[\"Date\"]=pd.to_datetime(zika_spy_df[\"Date\"])"
   ]
  },
  {
   "cell_type": "code",
   "execution_count": 3,
   "metadata": {},
   "outputs": [],
   "source": [
    "# ebola_spy.head()"
   ]
  },
  {
   "cell_type": "code",
   "execution_count": 4,
   "metadata": {},
   "outputs": [],
   "source": [
    "# sars_spy.head()"
   ]
  },
  {
   "cell_type": "code",
   "execution_count": 5,
   "metadata": {},
   "outputs": [],
   "source": [
    "# zika_spy.head()"
   ]
  },
  {
   "cell_type": "markdown",
   "metadata": {},
   "source": [
    "---\n",
    "That looks good, but there are a lot of columns."
   ]
  },
  {
   "cell_type": "code",
   "execution_count": 6,
   "metadata": {},
   "outputs": [],
   "source": [
    "# sars_spy.columns.unique()"
   ]
  },
  {
   "cell_type": "markdown",
   "metadata": {},
   "source": [
    "It'd be useful to run a function to call back a specific one, or group of these, but in the mean time I'm only going to check against the SP500 $returns$."
   ]
  },
  {
   "cell_type": "markdown",
   "metadata": {},
   "source": [
    "---"
   ]
  },
  {
   "cell_type": "markdown",
   "metadata": {},
   "source": [
    "# DATA COMBINATIONS\n",
    "Need to only pull market information for the data ranges that I have in hand. \n",
    "First, I need to drop unnecessary columns of information for my analysis. \n",
    "Going to concatenate the dataframes together and plot them. "
   ]
  },
  {
   "cell_type": "code",
   "execution_count": 7,
   "metadata": {},
   "outputs": [],
   "source": [
    "# ebola_spy_con = pd.DataFrame()\n",
    "# sars_spy_l = pd.DataFrame()\n",
    "# zika_spy_l = pd.DataFrame()\n",
    "\n",
    "# def index_returns(df,index_name):\n",
    "#     ebola_spy_l = pd.DataFrame()\n",
    "#     ebola_spy_l = pd.DataFrame(data=df[index_name],\n",
    "#                                    index=df.index,\n",
    "#                                    )\n",
    "#     ebola_spy_l = ebola_spy_l.pct_change().dropna()\n",
    "#     ebola_spy_con = pd.concat([df,ebola_spy_1], axis=\"columns\", join=\"inner\", sort=False)\n",
    "#     return ebola_spy_con\n",
    "# # -------------------------------------------------------------------------- #    \n",
    "# #     if df == ebola_sp:\n",
    "# #         ebola_spy_l = pd.DataFrame(data={disease}_spy['index_name'],\n",
    "# #                                    index={disease}_spy.index,\n",
    "# #                                    columns = 'index_name',)\n",
    "# # -------------------------------------------------------------------------- #        \n",
    "# #     {disease}_spy_l = pd.DataFrame(data={disease}_spy['index_name'],\n",
    "# #                                    index={disease}_spy.index,\n",
    "# #                                    columns = 'index_name',)\n",
    "# #     {disease}_spy_l = {disease}_spy_l.pct_change()\n",
    "# #     return {disease}_spy_l"
   ]
  },
  {
   "cell_type": "code",
   "execution_count": 9,
   "metadata": {},
   "outputs": [],
   "source": [
    "# ebola_spy_l = index_returns(ebola_spy,index_name='SP500_Close')"
   ]
  },
  {
   "cell_type": "code",
   "execution_count": 10,
   "metadata": {},
   "outputs": [],
   "source": [
    "# ebola_spy_l"
   ]
  },
  {
   "cell_type": "code",
   "execution_count": null,
   "metadata": {},
   "outputs": [],
   "source": []
  },
  {
   "cell_type": "code",
   "execution_count": null,
   "metadata": {},
   "outputs": [],
   "source": []
  }
 ],
 "metadata": {
  "kernelspec": {
   "display_name": "Python 3",
   "language": "python",
   "name": "python3"
  },
  "language_info": {
   "codemirror_mode": {
    "name": "ipython",
    "version": 3
   },
   "file_extension": ".py",
   "mimetype": "text/x-python",
   "name": "python",
   "nbconvert_exporter": "python",
   "pygments_lexer": "ipython3",
   "version": "3.7.4"
  }
 },
 "nbformat": 4,
 "nbformat_minor": 4
}
