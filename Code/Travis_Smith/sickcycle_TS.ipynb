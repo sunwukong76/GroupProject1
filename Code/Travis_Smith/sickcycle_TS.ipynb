{
 "cells": [
  {
   "cell_type": "code",
   "execution_count": 1,
   "metadata": {},
   "outputs": [],
   "source": [
    "import pandas as pd\n",
    "import datetime\n",
    "from pathlib import Path"
   ]
  },
  {
   "cell_type": "code",
   "execution_count": 2,
   "metadata": {},
   "outputs": [],
   "source": [
    "Structure = [\"Date\",\"Event\",\"Source\",\"News_Type\",\"Disease\"]\n",
    "Zika = {\n",
    "    \"Date\":[\"2015-05-07\",\"2017-09-30\",],\n",
    "    \"Event\": [\"Start\", \"End\"],\n",
    "    \"Source\":[\"PAHO\",\"NA\"],\n",
    "    \"News_Type\":[\"N\",\"P\"]\n",
    "}\n",
    "\n",
    "H1N1 = {\n",
    "    \"Date\":[\"2009-04-15\",\"2010-08-11\"],\n",
    "    \"Event\": [\"Start\",\"End\"],\n",
    "    \"Source\":[\"CDC\",\"WHO\"],\n",
    "    \"News_Type\":[\"N\",\"P\"]\n",
    "}\n",
    "\n",
    "SARS = {\n",
    "    \"Date\":[\"2003-03-12\",\"2003-07-05\"],\n",
    "    \"Event\": [\"Start\",\"End\"],\n",
    "    \"Source\":[\"WHO\",\"WHO\"],\n",
    "    \"News_Type\":[\"N\",\"P\"]\n",
    "}\n",
    "\n",
    "Ebola = {\n",
    "    \"Date\":[\"2014-03-03\",\"2016-03-29\"],\n",
    "    \"Event\": [\"Start\",\"End\"],\n",
    "    \"Source\":[\"NA\",\"WHO\"],\n",
    "    \"News_Type\":[\"N\",\"P\"]\n",
    "}"
   ]
  },
  {
   "cell_type": "code",
   "execution_count": 7,
   "metadata": {},
   "outputs": [
    {
     "data": {
      "text/html": [
       "<div>\n",
       "<style scoped>\n",
       "    .dataframe tbody tr th:only-of-type {\n",
       "        vertical-align: middle;\n",
       "    }\n",
       "\n",
       "    .dataframe tbody tr th {\n",
       "        vertical-align: top;\n",
       "    }\n",
       "\n",
       "    .dataframe thead th {\n",
       "        text-align: right;\n",
       "    }\n",
       "</style>\n",
       "<table border=\"1\" class=\"dataframe\">\n",
       "  <thead>\n",
       "    <tr style=\"text-align: right;\">\n",
       "      <th></th>\n",
       "      <th>Event</th>\n",
       "      <th>Source</th>\n",
       "      <th>News_Type</th>\n",
       "      <th>Disease</th>\n",
       "    </tr>\n",
       "    <tr>\n",
       "      <th>Date</th>\n",
       "      <th></th>\n",
       "      <th></th>\n",
       "      <th></th>\n",
       "      <th></th>\n",
       "    </tr>\n",
       "  </thead>\n",
       "  <tbody>\n",
       "    <tr>\n",
       "      <td>2015-05-07</td>\n",
       "      <td>Start</td>\n",
       "      <td>PAHO</td>\n",
       "      <td>N</td>\n",
       "      <td>Zika</td>\n",
       "    </tr>\n",
       "    <tr>\n",
       "      <td>2017-09-30</td>\n",
       "      <td>End</td>\n",
       "      <td>NA</td>\n",
       "      <td>P</td>\n",
       "      <td>Zika</td>\n",
       "    </tr>\n",
       "    <tr>\n",
       "      <td>2009-04-15</td>\n",
       "      <td>Start</td>\n",
       "      <td>CDC</td>\n",
       "      <td>N</td>\n",
       "      <td>H1N1</td>\n",
       "    </tr>\n",
       "    <tr>\n",
       "      <td>2010-08-11</td>\n",
       "      <td>End</td>\n",
       "      <td>WHO</td>\n",
       "      <td>P</td>\n",
       "      <td>H1N1</td>\n",
       "    </tr>\n",
       "    <tr>\n",
       "      <td>2003-03-12</td>\n",
       "      <td>Start</td>\n",
       "      <td>WHO</td>\n",
       "      <td>N</td>\n",
       "      <td>SARS</td>\n",
       "    </tr>\n",
       "    <tr>\n",
       "      <td>2003-07-05</td>\n",
       "      <td>End</td>\n",
       "      <td>WHO</td>\n",
       "      <td>P</td>\n",
       "      <td>SARS</td>\n",
       "    </tr>\n",
       "    <tr>\n",
       "      <td>2014-03-03</td>\n",
       "      <td>Start</td>\n",
       "      <td>NA</td>\n",
       "      <td>N</td>\n",
       "      <td>Ebola</td>\n",
       "    </tr>\n",
       "    <tr>\n",
       "      <td>2016-03-29</td>\n",
       "      <td>End</td>\n",
       "      <td>WHO</td>\n",
       "      <td>P</td>\n",
       "      <td>Ebola</td>\n",
       "    </tr>\n",
       "  </tbody>\n",
       "</table>\n",
       "</div>"
      ],
      "text/plain": [
       "            Event Source News_Type Disease\n",
       "Date                                      \n",
       "2015-05-07  Start   PAHO         N    Zika\n",
       "2017-09-30    End     NA         P    Zika\n",
       "2009-04-15  Start    CDC         N    H1N1\n",
       "2010-08-11    End    WHO         P    H1N1\n",
       "2003-03-12  Start    WHO         N    SARS\n",
       "2003-07-05    End    WHO         P    SARS\n",
       "2014-03-03  Start     NA         N   Ebola\n",
       "2016-03-29    End    WHO         P   Ebola"
      ]
     },
     "execution_count": 7,
     "metadata": {},
     "output_type": "execute_result"
    }
   ],
   "source": [
    "Zika_df = pd.DataFrame(Zika,columns = Structure)\n",
    "Zika_df[\"Disease\"] = \"Zika\"\n",
    "H1N1_df = pd.DataFrame(H1N1,columns = Structure)\n",
    "H1N1_df[\"Disease\"] = \"H1N1\"\n",
    "SARS_df = pd.DataFrame(SARS,columns = Structure)\n",
    "SARS_df[\"Disease\"] = \"SARS\"\n",
    "Ebola_df = pd.DataFrame(Ebola,columns = Structure)\n",
    "Ebola_df[\"Disease\"] = \"Ebola\"\n",
    "\n",
    "Outbreak = pd.concat ([Zika_df, H1N1_df, SARS_df, Ebola_df])\n",
    "Outbreak[\"Date\"] = pd.to_datetime(Outbreak[\"Date\"])\n",
    "Outbreak.set_index(\"Date\",inplace = True)\n",
    "Outbreak"
   ]
  },
  {
   "cell_type": "code",
   "execution_count": 8,
   "metadata": {},
   "outputs": [
    {
     "name": "stdout",
     "output_type": "stream",
     "text": [
      "<class 'pandas.core.frame.DataFrame'>\n",
      "DatetimeIndex: 8 entries, 2015-05-07 to 2016-03-29\n",
      "Data columns (total 4 columns):\n",
      "Event        8 non-null object\n",
      "Source       8 non-null object\n",
      "News_Type    8 non-null object\n",
      "Disease      8 non-null object\n",
      "dtypes: object(4)\n",
      "memory usage: 320.0+ bytes\n"
     ]
    }
   ],
   "source": [
    "Outbreak.info()"
   ]
  },
  {
   "cell_type": "code",
   "execution_count": 9,
   "metadata": {},
   "outputs": [],
   "source": [
    "Outbreak.to_csv(\"Outbreak.csv\")"
   ]
  },
  {
   "cell_type": "code",
   "execution_count": null,
   "metadata": {},
   "outputs": [],
   "source": []
  }
 ],
 "metadata": {
  "kernelspec": {
   "display_name": "Python 3",
   "language": "python",
   "name": "python3"
  },
  "language_info": {
   "codemirror_mode": {
    "name": "ipython",
    "version": 3
   },
   "file_extension": ".py",
   "mimetype": "text/x-python",
   "name": "python",
   "nbconvert_exporter": "python",
   "pygments_lexer": "ipython3",
   "version": "3.7.4"
  }
 },
 "nbformat": 4,
 "nbformat_minor": 4
}
