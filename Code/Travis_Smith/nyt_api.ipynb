{
 "cells": [
  {
   "cell_type": "code",
   "execution_count": 41,
   "metadata": {},
   "outputs": [
    {
     "name": "stderr",
     "output_type": "stream",
     "text": [
      "ERROR: Could not find a version that satisfies the requirement NYTimesArticleAPI (from versions: none)\n",
      "ERROR: No matching distribution found for NYTimesArticleAPI\n"
     ]
    }
   ],
   "source": [
    "! pip install NYTimesArticleAPI"
   ]
  },
  {
   "cell_type": "code",
   "execution_count": 97,
   "metadata": {},
   "outputs": [
    {
     "ename": "TypeError",
     "evalue": "can only concatenate str (not \"bytes\") to str",
     "output_type": "error",
     "traceback": [
      "\u001b[1;31m---------------------------------------------------------------------------\u001b[0m",
      "\u001b[1;31mTypeError\u001b[0m                                 Traceback (most recent call last)",
      "\u001b[1;32m<ipython-input-97-0393f0adec3c>\u001b[0m in \u001b[0;36m<module>\u001b[1;34m\u001b[0m\n\u001b[0;32m      9\u001b[0m articles = api.search( 'Obama', \n\u001b[0;32m     10\u001b[0m      \u001b[0mfq\u001b[0m \u001b[1;33m=\u001b[0m \u001b[1;33m{\u001b[0m\u001b[1;34m'headline'\u001b[0m\u001b[1;33m:\u001b[0m\u001b[1;34m'Obama'\u001b[0m\u001b[1;33m,\u001b[0m \u001b[1;34m'source'\u001b[0m\u001b[1;33m:\u001b[0m\u001b[1;33m[\u001b[0m\u001b[1;34m'Reuters'\u001b[0m\u001b[1;33m,\u001b[0m\u001b[1;34m'AP'\u001b[0m\u001b[1;33m,\u001b[0m \u001b[1;34m'The New York Times'\u001b[0m\u001b[1;33m]\u001b[0m\u001b[1;33m}\u001b[0m\u001b[1;33m,\u001b[0m\u001b[1;33m\u001b[0m\u001b[1;33m\u001b[0m\u001b[0m\n\u001b[1;32m---> 11\u001b[1;33m      begin_date = 20111231 )\n\u001b[0m",
      "\u001b[1;32m~\\Anaconda3\\envs\\vizenv\\lib\\site-packages\\nytimesarticle.py\u001b[0m in \u001b[0;36msearch\u001b[1;34m(self, response_format, key, **kwargs)\u001b[0m\n\u001b[0;32m    109\u001b[0m \u001b[1;33m\u001b[0m\u001b[0m\n\u001b[0;32m    110\u001b[0m         url = '%s%s?%sapi-key=%s' % (\n\u001b[1;32m--> 111\u001b[1;33m             \u001b[0mAPI_ROOT\u001b[0m\u001b[1;33m,\u001b[0m \u001b[0mresponse_format\u001b[0m\u001b[1;33m,\u001b[0m \u001b[0mself\u001b[0m\u001b[1;33m.\u001b[0m\u001b[0m_options\u001b[0m\u001b[1;33m(\u001b[0m\u001b[1;33m**\u001b[0m\u001b[0mkwargs\u001b[0m\u001b[1;33m)\u001b[0m\u001b[1;33m,\u001b[0m \u001b[0mkey\u001b[0m\u001b[1;33m\u001b[0m\u001b[1;33m\u001b[0m\u001b[0m\n\u001b[0m\u001b[0;32m    112\u001b[0m         )\n\u001b[0;32m    113\u001b[0m \u001b[1;33m\u001b[0m\u001b[0m\n",
      "\u001b[1;32m~\\Anaconda3\\envs\\vizenv\\lib\\site-packages\\nytimesarticle.py\u001b[0m in \u001b[0;36m_options\u001b[1;34m(self, **kwargs)\u001b[0m\n\u001b[0;32m     82\u001b[0m         \u001b[1;32mfor\u001b[0m \u001b[0mk\u001b[0m\u001b[1;33m,\u001b[0m \u001b[0mv\u001b[0m \u001b[1;32min\u001b[0m \u001b[0mkwargs\u001b[0m\u001b[1;33m.\u001b[0m\u001b[0mitems\u001b[0m\u001b[1;33m(\u001b[0m\u001b[1;33m)\u001b[0m\u001b[1;33m:\u001b[0m\u001b[1;33m\u001b[0m\u001b[1;33m\u001b[0m\u001b[0m\n\u001b[0;32m     83\u001b[0m             \u001b[1;32mif\u001b[0m \u001b[0mk\u001b[0m \u001b[1;32mis\u001b[0m \u001b[1;34m'fq'\u001b[0m \u001b[1;32mand\u001b[0m \u001b[0misinstance\u001b[0m\u001b[1;33m(\u001b[0m\u001b[0mv\u001b[0m\u001b[1;33m,\u001b[0m \u001b[0mdict\u001b[0m\u001b[1;33m)\u001b[0m\u001b[1;33m:\u001b[0m\u001b[1;33m\u001b[0m\u001b[1;33m\u001b[0m\u001b[0m\n\u001b[1;32m---> 84\u001b[1;33m                 \u001b[0mv\u001b[0m \u001b[1;33m=\u001b[0m \u001b[0m_format_fq\u001b[0m\u001b[1;33m(\u001b[0m\u001b[0mv\u001b[0m\u001b[1;33m)\u001b[0m\u001b[1;33m\u001b[0m\u001b[1;33m\u001b[0m\u001b[0m\n\u001b[0m\u001b[0;32m     85\u001b[0m             \u001b[1;32melif\u001b[0m \u001b[0misinstance\u001b[0m\u001b[1;33m(\u001b[0m\u001b[0mv\u001b[0m\u001b[1;33m,\u001b[0m \u001b[0mlist\u001b[0m\u001b[1;33m)\u001b[0m\u001b[1;33m:\u001b[0m\u001b[1;33m\u001b[0m\u001b[1;33m\u001b[0m\u001b[0m\n\u001b[0;32m     86\u001b[0m                 \u001b[0mv\u001b[0m \u001b[1;33m=\u001b[0m \u001b[1;34m','\u001b[0m\u001b[1;33m.\u001b[0m\u001b[0mjoin\u001b[0m\u001b[1;33m(\u001b[0m\u001b[0mv\u001b[0m\u001b[1;33m)\u001b[0m\u001b[1;33m\u001b[0m\u001b[1;33m\u001b[0m\u001b[0m\n",
      "\u001b[1;32m~\\Anaconda3\\envs\\vizenv\\lib\\site-packages\\nytimesarticle.py\u001b[0m in \u001b[0;36m_format_fq\u001b[1;34m(d)\u001b[0m\n\u001b[0;32m     67\u001b[0m                     \u001b[0md\u001b[0m\u001b[1;33m[\u001b[0m\u001b[0mk\u001b[0m\u001b[1;33m]\u001b[0m \u001b[1;33m=\u001b[0m \u001b[1;34m' '\u001b[0m\u001b[1;33m.\u001b[0m\u001b[0mjoin\u001b[0m\u001b[1;33m(\u001b[0m\u001b[0mmap\u001b[0m\u001b[1;33m(\u001b[0m\u001b[1;32mlambda\u001b[0m \u001b[0mx\u001b[0m\u001b[1;33m:\u001b[0m \u001b[1;34m'\"'\u001b[0m \u001b[1;33m+\u001b[0m \u001b[0mx\u001b[0m \u001b[1;33m+\u001b[0m \u001b[1;34m'\"'\u001b[0m\u001b[1;33m,\u001b[0m \u001b[0mv\u001b[0m\u001b[1;33m)\u001b[0m\u001b[1;33m)\u001b[0m\u001b[1;33m\u001b[0m\u001b[1;33m\u001b[0m\u001b[0m\n\u001b[0;32m     68\u001b[0m                 \u001b[1;32melse\u001b[0m\u001b[1;33m:\u001b[0m\u001b[1;33m\u001b[0m\u001b[1;33m\u001b[0m\u001b[0m\n\u001b[1;32m---> 69\u001b[1;33m                     \u001b[0md\u001b[0m\u001b[1;33m[\u001b[0m\u001b[0mk\u001b[0m\u001b[1;33m]\u001b[0m \u001b[1;33m=\u001b[0m \u001b[1;34m'\"'\u001b[0m \u001b[1;33m+\u001b[0m \u001b[0mv\u001b[0m \u001b[1;33m+\u001b[0m \u001b[1;34m'\"'\u001b[0m\u001b[1;33m\u001b[0m\u001b[1;33m\u001b[0m\u001b[0m\n\u001b[0m\u001b[0;32m     70\u001b[0m             \u001b[0mvalues\u001b[0m \u001b[1;33m=\u001b[0m \u001b[1;33m[\u001b[0m\u001b[1;33m]\u001b[0m\u001b[1;33m\u001b[0m\u001b[1;33m\u001b[0m\u001b[0m\n\u001b[0;32m     71\u001b[0m             \u001b[1;32mfor\u001b[0m \u001b[0mk\u001b[0m\u001b[1;33m,\u001b[0m\u001b[0mv\u001b[0m \u001b[1;32min\u001b[0m \u001b[0md\u001b[0m\u001b[1;33m.\u001b[0m\u001b[0mitems\u001b[0m\u001b[1;33m(\u001b[0m\u001b[1;33m)\u001b[0m\u001b[1;33m:\u001b[0m\u001b[1;33m\u001b[0m\u001b[1;33m\u001b[0m\u001b[0m\n",
      "\u001b[1;31mTypeError\u001b[0m: can only concatenate str (not \"bytes\") to str"
     ]
    }
   ],
   "source": [
    "from nytimesarticle import articleAPI\n",
    "api = articleAPI('THFAgqFwEabG2AW7vxkxXQAEDXtZA4zK')\n",
    "\n",
    "\n",
    "# articles = api.search( q = 'Obama', \n",
    "#      fq = {'headline':'Obama', 'source':['Reuters','AP', 'The New York Times']}, \n",
    "#      begin_date = 20111231 )\n",
    "\n",
    "articles = api.search( 'Obama', \n",
    "     fq = {'headline':'Obama', 'source':['Reuters','AP', 'The New York Times']}, \n",
    "     begin_date = 20111231 )"
   ]
  },
  {
   "cell_type": "code",
   "execution_count": 95,
   "metadata": {},
   "outputs": [
    {
     "ename": "SyntaxError",
     "evalue": "invalid syntax (<ipython-input-95-b0499028dd01>, line 2)",
     "output_type": "error",
     "traceback": [
      "\u001b[1;36m  File \u001b[1;32m\"<ipython-input-95-b0499028dd01>\"\u001b[1;36m, line \u001b[1;32m2\u001b[0m\n\u001b[1;33m    fq = headline:('Obama') AND  source:('The New York Times'),\u001b[0m\n\u001b[1;37m                 ^\u001b[0m\n\u001b[1;31mSyntaxError\u001b[0m\u001b[1;31m:\u001b[0m invalid syntax\n"
     ]
    }
   ],
   "source": [
    "# articles = api.search(q=\"SARS\")\n",
    "articles"
   ]
  },
  {
   "cell_type": "code",
   "execution_count": 69,
   "metadata": {},
   "outputs": [],
   "source": [
    "def parse_articles(articles):\n",
    "    '''\n",
    "    This function takes in a response to the NYT api and parses\n",
    "    the articles into a list of dictionaries\n",
    "    '''\n",
    "    news = []\n",
    "    for i in articles['response']['docs']:\n",
    "        dic = {}\n",
    "        dic['id'] = i['_id']\n",
    "        if i['abstract'] is not None:\n",
    "            dic['abstract'] = i['abstract'].encode(\"utf8\")\n",
    "        dic['headline'] = i['headline']['main'].encode(\"utf8\")\n",
    "        dic['desk'] = i['news_desk']\n",
    "        dic['date'] = i['pub_date'][0:10] # cutting time of day.\n",
    "        dic['section'] = i['section_name']\n",
    "        if i['snippet'] is not None:\n",
    "            dic['snippet'] = i['snippet'].encode(\"utf8\")\n",
    "        dic['source'] = i['source']\n",
    "        dic['type'] = i['type_of_material']\n",
    "        dic['url'] = i['web_url']\n",
    "        dic['word_count'] = i['word_count']\n",
    "        # locations\n",
    "        locations = []\n",
    "        for x in range(0,len(i['keywords'])):\n",
    "            if 'glocations' in i['keywords'][x]['name']:\n",
    "                locations.append(i['keywords'][x]['value'])\n",
    "        dic['locations'] = locations\n",
    "        # subject\n",
    "        subjects = []\n",
    "        for x in range(0,len(i['keywords'])):\n",
    "            if 'subject' in i['keywords'][x]['name']:\n",
    "                subjects.append(i['keywords'][x]['value'])\n",
    "        dic['subjects'] = subjects   \n",
    "        news.append(dic)\n",
    "    return(news) "
   ]
  },
  {
   "cell_type": "code",
   "execution_count": 70,
   "metadata": {},
   "outputs": [
    {
     "data": {
      "text/plain": [
       "[{'id': 'nyt://article/13bc8e58-54dd-5146-ab72-42c215a9ef73',\n",
       "  'abstract': b'British capture of Le Sars described',\n",
       "  'headline': b'CAPTURE OF LE SARS IS OF GREAT VALUE; British Thus Obtain Important Position Defending Bapaume on the Right Wing.',\n",
       "  'desk': 'None',\n",
       "  'date': '1916-10-09',\n",
       "  'section': 'Archives',\n",
       "  'snippet': b'British capture of Le Sars described',\n",
       "  'source': 'The New York Times',\n",
       "  'url': 'https://www.nytimes.com/1916/10/09/archives/capture-of-le-sars-is-of-great-value-british-thus-obtain-important.html',\n",
       "  'word_count': 0,\n",
       "  'locations': [],\n",
       "  'subjects': ['EUROPEAN WAR', 'CAMPAIGN IN EUROPE, WESTERN']},\n",
       " {'id': 'nyt://article/0b3e6e39-8762-5c84-965c-e371be4c4682',\n",
       "  'abstract': b'British capture Le Sars; Allies make gains on front of 10 miles; British advance lines between Gueudecourt and Les Boeufs; French advance lines near Morval',\n",
       "  'headline': b'ALLIES CRUMPLE THE SOMME FRONT; Break the German Line from the Bapaume Road Southeast for Ten Miles.',\n",
       "  'desk': 'None',\n",
       "  'date': '1916-10-08',\n",
       "  'section': 'Archives',\n",
       "  'snippet': b'British capture Le Sars; Allies make gains on front of 10 miles; British advance lines between Gueudecourt and Les Boeufs; French advance lines near Morval',\n",
       "  'source': 'The New York Times',\n",
       "  'url': 'https://www.nytimes.com/1916/10/08/archives/allies-crumple-the-somme-front-break-the-german-line-from-the.html',\n",
       "  'word_count': 0,\n",
       "  'locations': [],\n",
       "  'subjects': ['EUROPEAN WAR', 'CAMPAIGN IN EUROPE, WESTERN']},\n",
       " {'id': 'nyt://article/3612ffb2-6814-5ed5-b5f1-bc87f7724441',\n",
       "  'abstract': b'British advance on three-mile front from Schwaben Redoubt to Le Sars, take Stuff and Regina trenches; German attacks on Sailly-Saillisel fail; French pushed back north of Blaise Wood',\n",
       "  'headline': b\"BRITISH ADVANCE AS FOES ATTACK FRENCH LINES; Haig's Troops Gain Ground Along a 3-Mile Front from Schwaben to Le Sars. CAPTURE STUFF TRENCH Kaiser's Soldiers Deliver Repeated Assaults on Foch's Positions from Sailly South. SUFFER SEVERE REPULSES But Drive the French Back North of Blaise Wood After Heavy Fighting.\",\n",
       "  'desk': 'None',\n",
       "  'date': '1916-10-22',\n",
       "  'section': 'Archives',\n",
       "  'snippet': b'British advance on three-mile front from Schwaben Redoubt to Le Sars, take Stuff and Regina trenches; German attacks on Sailly-Saillisel fail; French pushed back north of Blaise Wood',\n",
       "  'source': 'The New York Times',\n",
       "  'url': 'https://www.nytimes.com/1916/10/22/archives/british-advance-as-foes-attack-french-lines-haigs-troops-gain.html',\n",
       "  'word_count': 0,\n",
       "  'locations': [],\n",
       "  'subjects': ['SPORTS',\n",
       "   'Football',\n",
       "   'EUROPEAN WAR',\n",
       "   'CAMPAIGN IN EUROPE, WESTERN']},\n",
       " {'id': 'nyt://article/04fd6955-9287-5918-95c6-4e23caf4b04e',\n",
       "  'abstract': b'',\n",
       "  'headline': b'BAPAUME TWO MILES AWAY.; British on Edge of Le Sars -- Cavalry Make Daring Raids.',\n",
       "  'desk': 'None',\n",
       "  'date': '1916-10-03',\n",
       "  'section': 'Archives',\n",
       "  'snippet': b'',\n",
       "  'source': 'The New York Times',\n",
       "  'url': 'https://www.nytimes.com/1916/10/03/archives/bapaume-two-miles-away-british-on-edge-of-le-sars-cavalry-make.html',\n",
       "  'word_count': 0,\n",
       "  'locations': [],\n",
       "  'subjects': []},\n",
       " {'id': 'nyt://article/ccab60ea-af8f-55fd-a570-2295e46fe470',\n",
       "  'abstract': b'IT is not quite certain whether Tony Sars or Ellen Van Volkenburg is entitled to the honor of having first  developed the marionette show in this country.  ',\n",
       "  'headline': b'PUPPETEERING AS A FINE ART',\n",
       "  'desk': 'None',\n",
       "  'date': '1920-05-23',\n",
       "  'section': 'Archives',\n",
       "  'snippet': b'',\n",
       "  'source': 'The New York Times',\n",
       "  'url': 'https://www.nytimes.com/1920/05/23/archives/puppeteering-as-a-fine-art.html',\n",
       "  'word_count': 0,\n",
       "  'locations': [],\n",
       "  'subjects': []},\n",
       " {'id': 'nyt://article/ed6b6760-195a-517c-81ce-b19172e17810',\n",
       "  'abstract': b'',\n",
       "  'headline': b'ROUGH PLAY IN LACROSSE.; Crescent A.C. Defeats Mount Washington -- \"Sars\" Kennedy Hurt.',\n",
       "  'desk': 'None',\n",
       "  'date': '1912-06-09',\n",
       "  'section': 'Archives',\n",
       "  'snippet': b'',\n",
       "  'source': 'The New York Times',\n",
       "  'url': 'https://www.nytimes.com/1912/06/09/archives/rough-play-in-lacrosse-crescent-ac-defeats-mount-washington-sars.html',\n",
       "  'word_count': 0,\n",
       "  'locations': [],\n",
       "  'subjects': []}]"
      ]
     },
     "execution_count": 70,
     "metadata": {},
     "output_type": "execute_result"
    }
   ],
   "source": [
    "parse_articles(articles)"
   ]
  },
  {
   "cell_type": "code",
   "execution_count": 64,
   "metadata": {},
   "outputs": [],
   "source": [
    "def get_articles(date,query):\n",
    "    '''\n",
    "    This function accepts a year in string format (e.g.'1980')\n",
    "    and a query (e.g.'Amnesty International') and it will \n",
    "    return a list of parsed articles (in dictionaries)\n",
    "    for that year.\n",
    "    '''\n",
    "    all_articles = []\n",
    "    for i in range(0,100): #NYT limits pager to first 100 pages. But rarely will you find over 100 pages of results anyway.\n",
    "        articles = api.search(q = query,\n",
    "#                fq = {'source':['Reuters','AP', 'The New York Times']},\n",
    "               begin_date = date + '0101',\n",
    "               end_date = date + '1231',\n",
    "               sort='oldest',\n",
    "               page = str(i))\n",
    "        articles = parse_articles(articles)\n",
    "        all_articles = all_articles + articles\n",
    "    return(all_articles)"
   ]
  },
  {
   "cell_type": "code",
   "execution_count": 71,
   "metadata": {},
   "outputs": [
    {
     "ename": "KeyError",
     "evalue": "'response'",
     "output_type": "error",
     "traceback": [
      "\u001b[1;31m---------------------------------------------------------------------------\u001b[0m",
      "\u001b[1;31mKeyError\u001b[0m                                  Traceback (most recent call last)",
      "\u001b[1;32m<ipython-input-71-3cfb2ccf9581>\u001b[0m in \u001b[0;36m<module>\u001b[1;34m\u001b[0m\n\u001b[1;32m----> 1\u001b[1;33m \u001b[0mget_articles\u001b[0m\u001b[1;33m(\u001b[0m\u001b[1;34m'2003'\u001b[0m\u001b[1;33m,\u001b[0m\u001b[1;34m'SARS'\u001b[0m\u001b[1;33m)\u001b[0m\u001b[1;33m\u001b[0m\u001b[1;33m\u001b[0m\u001b[0m\n\u001b[0m",
      "\u001b[1;32m<ipython-input-64-5cc03812c9a3>\u001b[0m in \u001b[0;36mget_articles\u001b[1;34m(date, query)\u001b[0m\n\u001b[0;32m     14\u001b[0m                \u001b[0msort\u001b[0m\u001b[1;33m=\u001b[0m\u001b[1;34m'oldest'\u001b[0m\u001b[1;33m,\u001b[0m\u001b[1;33m\u001b[0m\u001b[1;33m\u001b[0m\u001b[0m\n\u001b[0;32m     15\u001b[0m                page = str(i))\n\u001b[1;32m---> 16\u001b[1;33m         \u001b[0marticles\u001b[0m \u001b[1;33m=\u001b[0m \u001b[0mparse_articles\u001b[0m\u001b[1;33m(\u001b[0m\u001b[0marticles\u001b[0m\u001b[1;33m)\u001b[0m\u001b[1;33m\u001b[0m\u001b[1;33m\u001b[0m\u001b[0m\n\u001b[0m\u001b[0;32m     17\u001b[0m         \u001b[0mall_articles\u001b[0m \u001b[1;33m=\u001b[0m \u001b[0mall_articles\u001b[0m \u001b[1;33m+\u001b[0m \u001b[0marticles\u001b[0m\u001b[1;33m\u001b[0m\u001b[1;33m\u001b[0m\u001b[0m\n\u001b[0;32m     18\u001b[0m     \u001b[1;32mreturn\u001b[0m\u001b[1;33m(\u001b[0m\u001b[0mall_articles\u001b[0m\u001b[1;33m)\u001b[0m\u001b[1;33m\u001b[0m\u001b[1;33m\u001b[0m\u001b[0m\n",
      "\u001b[1;32m<ipython-input-69-caafa1060369>\u001b[0m in \u001b[0;36mparse_articles\u001b[1;34m(articles)\u001b[0m\n\u001b[0;32m      5\u001b[0m     '''\n\u001b[0;32m      6\u001b[0m     \u001b[0mnews\u001b[0m \u001b[1;33m=\u001b[0m \u001b[1;33m[\u001b[0m\u001b[1;33m]\u001b[0m\u001b[1;33m\u001b[0m\u001b[1;33m\u001b[0m\u001b[0m\n\u001b[1;32m----> 7\u001b[1;33m     \u001b[1;32mfor\u001b[0m \u001b[0mi\u001b[0m \u001b[1;32min\u001b[0m \u001b[0marticles\u001b[0m\u001b[1;33m[\u001b[0m\u001b[1;34m'response'\u001b[0m\u001b[1;33m]\u001b[0m\u001b[1;33m[\u001b[0m\u001b[1;34m'docs'\u001b[0m\u001b[1;33m]\u001b[0m\u001b[1;33m:\u001b[0m\u001b[1;33m\u001b[0m\u001b[1;33m\u001b[0m\u001b[0m\n\u001b[0m\u001b[0;32m      8\u001b[0m         \u001b[0mdic\u001b[0m \u001b[1;33m=\u001b[0m \u001b[1;33m{\u001b[0m\u001b[1;33m}\u001b[0m\u001b[1;33m\u001b[0m\u001b[1;33m\u001b[0m\u001b[0m\n\u001b[0;32m      9\u001b[0m         \u001b[0mdic\u001b[0m\u001b[1;33m[\u001b[0m\u001b[1;34m'id'\u001b[0m\u001b[1;33m]\u001b[0m \u001b[1;33m=\u001b[0m \u001b[0mi\u001b[0m\u001b[1;33m[\u001b[0m\u001b[1;34m'_id'\u001b[0m\u001b[1;33m]\u001b[0m\u001b[1;33m\u001b[0m\u001b[1;33m\u001b[0m\u001b[0m\n",
      "\u001b[1;31mKeyError\u001b[0m: 'response'"
     ]
    }
   ],
   "source": [
    "get_articles('2003','SARS')"
   ]
  },
  {
   "cell_type": "code",
   "execution_count": 66,
   "metadata": {},
   "outputs": [
    {
     "ename": "SyntaxError",
     "evalue": "invalid syntax (<ipython-input-66-cb5ac759db38>, line 3)",
     "output_type": "error",
     "traceback": [
      "\u001b[1;36m  File \u001b[1;32m\"<ipython-input-66-cb5ac759db38>\"\u001b[1;36m, line \u001b[1;32m3\u001b[0m\n\u001b[1;33m    print 'Processing' + str(i) + '...'\u001b[0m\n\u001b[1;37m                     ^\u001b[0m\n\u001b[1;31mSyntaxError\u001b[0m\u001b[1;31m:\u001b[0m invalid syntax\n"
     ]
    }
   ],
   "source": [
    "Amnesty_all = []\n",
    "for i in range(1980,2014):\n",
    "    print 'Processing' + str(i) + '...'\n",
    "    Amnesty_year =  get_articles(str(i),'Amnesty International')\n",
    "    Amnesty_all = Amnesty_all + Amnesty_year"
   ]
  },
  {
   "cell_type": "code",
   "execution_count": 94,
   "metadata": {},
   "outputs": [
    {
     "data": {
      "text/plain": [
       "\u001b[1;31mSignature:\u001b[0m \u001b[0mapi\u001b[0m\u001b[1;33m.\u001b[0m\u001b[0msearch\u001b[0m\u001b[1;33m(\u001b[0m\u001b[0mresponse_format\u001b[0m\u001b[1;33m=\u001b[0m\u001b[1;32mNone\u001b[0m\u001b[1;33m,\u001b[0m \u001b[0mkey\u001b[0m\u001b[1;33m=\u001b[0m\u001b[1;32mNone\u001b[0m\u001b[1;33m,\u001b[0m \u001b[1;33m**\u001b[0m\u001b[0mkwargs\u001b[0m\u001b[1;33m)\u001b[0m\u001b[1;33m\u001b[0m\u001b[1;33m\u001b[0m\u001b[0m\n",
       "\u001b[1;31mDocstring:\u001b[0m\n",
       "Calls the API and returns a dictionary of the search results\n",
       "\n",
       ":param response_format: the format that the API uses for its response, \n",
       "                        includes JSON (.json) and JSONP (.jsonp). \n",
       "                        Defaults to '.json'.\n",
       "                        \n",
       ":param key: a developer key. Defaults to key given when the articleAPI class was initialized.\n",
       "\u001b[1;31mFile:\u001b[0m      c:\\users\\travi\\anaconda3\\envs\\vizenv\\lib\\site-packages\\nytimesarticle.py\n",
       "\u001b[1;31mType:\u001b[0m      method\n"
      ]
     },
     "metadata": {},
     "output_type": "display_data"
    }
   ],
   "source": [
    "api.search?"
   ]
  },
  {
   "cell_type": "code",
   "execution_count": null,
   "metadata": {},
   "outputs": [],
   "source": []
  },
  {
   "cell_type": "code",
   "execution_count": null,
   "metadata": {},
   "outputs": [],
   "source": []
  }
 ],
 "metadata": {
  "kernelspec": {
   "display_name": "Python 3",
   "language": "python",
   "name": "python3"
  },
  "language_info": {
   "codemirror_mode": {
    "name": "ipython",
    "version": 3
   },
   "file_extension": ".py",
   "mimetype": "text/x-python",
   "name": "python",
   "nbconvert_exporter": "python",
   "pygments_lexer": "ipython3",
   "version": "3.7.6"
  }
 },
 "nbformat": 4,
 "nbformat_minor": 4
}
