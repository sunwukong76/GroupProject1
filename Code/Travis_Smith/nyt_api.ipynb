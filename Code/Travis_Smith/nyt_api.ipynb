{
 "cells": [
  {
   "cell_type": "code",
   "execution_count": 1,
   "metadata": {},
   "outputs": [
    {
     "name": "stdout",
     "output_type": "stream",
     "text": [
      "Collecting yanytapi\n",
      "  Downloading https://files.pythonhosted.org/packages/fe/d3/4e4c59fd9b896571f2bd9564b78e79e8aef8f6c33c8b116ef88b12598c93/yanytapi-2.0.0-py2.py3-none-any.whl\n",
      "Requirement already satisfied: requests>=2.7.0 in c:\\users\\travi\\anaconda3\\envs\\vizenv\\lib\\site-packages (from yanytapi) (2.22.0)\n",
      "Requirement already satisfied: idna<2.9,>=2.5 in c:\\users\\travi\\anaconda3\\envs\\vizenv\\lib\\site-packages (from requests>=2.7.0->yanytapi) (2.8)\n",
      "Requirement already satisfied: urllib3!=1.25.0,!=1.25.1,<1.26,>=1.21.1 in c:\\users\\travi\\anaconda3\\envs\\vizenv\\lib\\site-packages (from requests>=2.7.0->yanytapi) (1.25.7)\n",
      "Requirement already satisfied: chardet<3.1.0,>=3.0.2 in c:\\users\\travi\\anaconda3\\envs\\vizenv\\lib\\site-packages (from requests>=2.7.0->yanytapi) (3.0.4)\n",
      "Requirement already satisfied: certifi>=2017.4.17 in c:\\users\\travi\\anaconda3\\envs\\vizenv\\lib\\site-packages (from requests>=2.7.0->yanytapi) (2019.11.28)\n",
      "Installing collected packages: yanytapi\n",
      "Successfully installed yanytapi-2.0.0\n"
     ]
    }
   ],
   "source": [
    "# ! pip install nytimesarticle\n",
    "! pip install yanytapi"
   ]
  },
  {
   "cell_type": "code",
   "execution_count": 2,
   "metadata": {},
   "outputs": [],
   "source": [
    "from nytimesarticle import articleAPI\n",
    "from yanytapi import SearchAPI\n",
    "import pandas as pd\n",
    "import requests\n",
    "# api = articleAPI('THFAgqFwEabG2AW7vxkxXQAEDXtZA4zK')\n",
    "yourkey = ('THFAgqFwEabG2AW7vxkxXQAEDXtZA4zK')\n",
    "\n",
    "# articles = api.search( q = 'Obama', \n",
    "#      fq = {'headline':'Obama', 'source':['Reuters','AP', 'The New York Times']}, \n",
    "#      begin_date = 20111231 )\n",
    "# fq=news_desk:(\"Sports\" \"Foreign\")\n",
    "# articles = api.search(q = \"ebola\",\n",
    "#       fq=news_desk:(\"Sports\" \"Foreign\"), \n",
    "#      begin_date = 20030201)\n",
    "#      end_date = 20030731)"
   ]
  },
  {
   "cell_type": "code",
   "execution_count": 4,
   "metadata": {},
   "outputs": [],
   "source": [
    "# pull data from NYT API\n",
    "# pages = [0:100]\n",
    "subject = 'SARS'\n",
    "body = 'World Health Organization'\n",
    "section_name = 'World'\n",
    "begin_date = 20030201\n",
    "end_date = 20030731\n",
    "# articles = requests.get(f'https://api.nytimes.com/svc/search/v2/articlesearch.json?q=SARS&fq=body:{body}ANDsection_name:{section_name}&begin_date={begin_date}&end_date={end_date}&api-key={yourkey}')\n",
    "articles = requests.get(f'https://api.nytimes.com/svc/search/v2/articlesearch.json?q=SARS&fq=section_name:{section_name}&begin_date={begin_date}&end_date={end_date}&api-key={yourkey}')\n"
   ]
  },
  {
   "cell_type": "markdown",
   "metadata": {},
   "source": []
  },
  {
   "cell_type": "code",
   "execution_count": 6,
   "metadata": {},
   "outputs": [
    {
     "data": {
      "text/html": [
       "<div>\n",
       "<style scoped>\n",
       "    .dataframe tbody tr th:only-of-type {\n",
       "        vertical-align: middle;\n",
       "    }\n",
       "\n",
       "    .dataframe tbody tr th {\n",
       "        vertical-align: top;\n",
       "    }\n",
       "\n",
       "    .dataframe thead th {\n",
       "        text-align: right;\n",
       "    }\n",
       "</style>\n",
       "<table border=\"1\" class=\"dataframe\">\n",
       "  <thead>\n",
       "    <tr style=\"text-align: right;\">\n",
       "      <th></th>\n",
       "      <th>dates</th>\n",
       "      <th>headline</th>\n",
       "      <th>section_name</th>\n",
       "      <th>abstract</th>\n",
       "    </tr>\n",
       "  </thead>\n",
       "  <tbody>\n",
       "    <tr>\n",
       "      <th>0</th>\n",
       "      <td>2003-07-31T05:00:00+0000</td>\n",
       "      <td>Toronto Turns On Rock to Drown Out SARS Fears</td>\n",
       "      <td>World</td>\n",
       "      <td>Huge rock concert is held in Toronto, Ontario,...</td>\n",
       "    </tr>\n",
       "    <tr>\n",
       "      <th>1</th>\n",
       "      <td>2003-07-06T05:00:00+0000</td>\n",
       "      <td>SARS Declared Contained, With No Cases In Past...</td>\n",
       "      <td>World</td>\n",
       "      <td>World Heath Organization declares SARS has bee...</td>\n",
       "    </tr>\n",
       "    <tr>\n",
       "      <th>2</th>\n",
       "      <td>2003-07-03T05:00:00+0000</td>\n",
       "      <td>World Briefing | Americas: Canada: SARS All-Clear</td>\n",
       "      <td>World</td>\n",
       "      <td>World Health Organization removes Toronto from...</td>\n",
       "    </tr>\n",
       "    <tr>\n",
       "      <th>3</th>\n",
       "      <td>2003-06-26T05:00:00+0000</td>\n",
       "      <td>World Briefing | Asia: China: New Sars Case</td>\n",
       "      <td>World</td>\n",
       "      <td>China reports new case of SARS in Guangdong Pr...</td>\n",
       "    </tr>\n",
       "    <tr>\n",
       "      <th>4</th>\n",
       "      <td>2003-06-25T05:00:00+0000</td>\n",
       "      <td>China Has Quelled SARS, World Health Agency Says</td>\n",
       "      <td>World</td>\n",
       "      <td>World Health Organization declares that Beijin...</td>\n",
       "    </tr>\n",
       "    <tr>\n",
       "      <th>5</th>\n",
       "      <td>2003-06-21T05:00:00+0000</td>\n",
       "      <td>Isolation, an Old Medical Tool, Has SARS Fading</td>\n",
       "      <td>World</td>\n",
       "      <td>Mystery virus SARS, which three months ago see...</td>\n",
       "    </tr>\n",
       "    <tr>\n",
       "      <th>6</th>\n",
       "      <td>2003-06-18T05:00:00+0000</td>\n",
       "      <td>As SARS Ebbs, W.H.O. Lifts Its Advisory On Taiwan</td>\n",
       "      <td>World</td>\n",
       "      <td>WHO lifts advisory against travel to Taiwan, l...</td>\n",
       "    </tr>\n",
       "    <tr>\n",
       "      <th>7</th>\n",
       "      <td>2003-06-17T05:00:00+0000</td>\n",
       "      <td>SARS Advisory Against Traveling to Taiwan Is L...</td>\n",
       "      <td>World</td>\n",
       "      <td>Beijing is now the only place that the World H...</td>\n",
       "    </tr>\n",
       "    <tr>\n",
       "      <th>8</th>\n",
       "      <td>2003-07-01T05:00:00+0000</td>\n",
       "      <td>Analysts See Tension in China Within the Top L...</td>\n",
       "      <td>World</td>\n",
       "      <td>China analysts say conflict between supporters...</td>\n",
       "    </tr>\n",
       "    <tr>\n",
       "      <th>9</th>\n",
       "      <td>2003-06-14T05:00:00+0000</td>\n",
       "      <td>W.H.O. Lifts SARS Alert in China Regions</td>\n",
       "      <td>World</td>\n",
       "      <td>World Health Organization removes travel advis...</td>\n",
       "    </tr>\n",
       "  </tbody>\n",
       "</table>\n",
       "</div>"
      ],
      "text/plain": [
       "                      dates  \\\n",
       "0  2003-07-31T05:00:00+0000   \n",
       "1  2003-07-06T05:00:00+0000   \n",
       "2  2003-07-03T05:00:00+0000   \n",
       "3  2003-06-26T05:00:00+0000   \n",
       "4  2003-06-25T05:00:00+0000   \n",
       "5  2003-06-21T05:00:00+0000   \n",
       "6  2003-06-18T05:00:00+0000   \n",
       "7  2003-06-17T05:00:00+0000   \n",
       "8  2003-07-01T05:00:00+0000   \n",
       "9  2003-06-14T05:00:00+0000   \n",
       "\n",
       "                                            headline section_name  \\\n",
       "0      Toronto Turns On Rock to Drown Out SARS Fears        World   \n",
       "1  SARS Declared Contained, With No Cases In Past...        World   \n",
       "2  World Briefing | Americas: Canada: SARS All-Clear        World   \n",
       "3        World Briefing | Asia: China: New Sars Case        World   \n",
       "4   China Has Quelled SARS, World Health Agency Says        World   \n",
       "5    Isolation, an Old Medical Tool, Has SARS Fading        World   \n",
       "6  As SARS Ebbs, W.H.O. Lifts Its Advisory On Taiwan        World   \n",
       "7  SARS Advisory Against Traveling to Taiwan Is L...        World   \n",
       "8  Analysts See Tension in China Within the Top L...        World   \n",
       "9           W.H.O. Lifts SARS Alert in China Regions        World   \n",
       "\n",
       "                                            abstract  \n",
       "0  Huge rock concert is held in Toronto, Ontario,...  \n",
       "1  World Heath Organization declares SARS has bee...  \n",
       "2  World Health Organization removes Toronto from...  \n",
       "3  China reports new case of SARS in Guangdong Pr...  \n",
       "4  World Health Organization declares that Beijin...  \n",
       "5  Mystery virus SARS, which three months ago see...  \n",
       "6  WHO lifts advisory against travel to Taiwan, l...  \n",
       "7  Beijing is now the only place that the World H...  \n",
       "8  China analysts say conflict between supporters...  \n",
       "9  World Health Organization removes travel advis...  "
      ]
     },
     "execution_count": 6,
     "metadata": {},
     "output_type": "execute_result"
    }
   ],
   "source": [
    "# import pandas as pd\n",
    "\n",
    "pd.DataFrame({\n",
    "    'dates':[x['pub_date'] for x in articles.json()['response']['docs']],\n",
    "    'headline':[x['headline']['main'] for x in articles.json()['response']['docs']],\n",
    "    'section_name':[x['section_name'] for x in articles.json()['response']['docs']],\n",
    "    'abstract':[x['abstract'] for x in articles.json()['response']['docs']],\n",
    "#     'print_page':[x['print_page'] for x in articles.json()['response']['docs']]\n",
    "#     'abstract':[x['keywords'] for x in articles.json()['response']['docs']]\n",
    "    \n",
    "})"
   ]
  },
  {
   "cell_type": "code",
   "execution_count": 7,
   "metadata": {},
   "outputs": [
    {
     "data": {
      "text/plain": [
       "dict_keys(['abstract', 'web_url', 'snippet', 'lead_paragraph', 'print_section', 'print_page', 'source', 'multimedia', 'headline', 'keywords', 'pub_date', 'document_type', 'news_desk', 'section_name', 'byline', 'type_of_material', '_id', 'word_count', 'uri'])"
      ]
     },
     "execution_count": 7,
     "metadata": {},
     "output_type": "execute_result"
    }
   ],
   "source": [
    "# articles = api.search(q=\"SARS\")\n",
    "articles.json()['response']['docs'][0].keys()"
   ]
  },
  {
   "cell_type": "code",
   "execution_count": 8,
   "metadata": {},
   "outputs": [
    {
     "ename": "KeyError",
     "evalue": "'print_page'",
     "output_type": "error",
     "traceback": [
      "\u001b[1;31m---------------------------------------------------------------------------\u001b[0m",
      "\u001b[1;31mKeyError\u001b[0m                                  Traceback (most recent call last)",
      "\u001b[1;32m<ipython-input-8-147eb42d2213>\u001b[0m in \u001b[0;36m<module>\u001b[1;34m\u001b[0m\n\u001b[1;32m----> 1\u001b[1;33m \u001b[0marticles\u001b[0m\u001b[1;33m.\u001b[0m\u001b[0mjson\u001b[0m\u001b[1;33m(\u001b[0m\u001b[1;33m)\u001b[0m\u001b[1;33m[\u001b[0m\u001b[1;34m'response'\u001b[0m\u001b[1;33m]\u001b[0m\u001b[1;33m[\u001b[0m\u001b[1;34m'docs'\u001b[0m\u001b[1;33m]\u001b[0m\u001b[1;33m[\u001b[0m\u001b[1;36m7\u001b[0m\u001b[1;33m]\u001b[0m\u001b[1;33m[\u001b[0m\u001b[1;34m'print_page'\u001b[0m\u001b[1;33m]\u001b[0m\u001b[1;31m#[0]['name']\u001b[0m\u001b[1;33m\u001b[0m\u001b[1;33m\u001b[0m\u001b[0m\n\u001b[0m",
      "\u001b[1;31mKeyError\u001b[0m: 'print_page'"
     ]
    }
   ],
   "source": [
    "articles.json()['response']['docs'][7]['print_page']#[0]['name']"
   ]
  },
  {
   "cell_type": "code",
   "execution_count": 9,
   "metadata": {},
   "outputs": [],
   "source": [
    "def parse_articles(articles):\n",
    "    '''\n",
    "    This function takes in a response to the NYT api and parses\n",
    "    the articles into a list of dictionaries\n",
    "    '''\n",
    "    news = []\n",
    "    for i in articles['response']['docs']:\n",
    "        dic = {}\n",
    "        dic['id'] = i['_id']\n",
    "        if i['abstract'] is not None:\n",
    "            dic['abstract'] = i['abstract'].encode(\"utf8\")\n",
    "        dic['headline'] = i['headline']['main'].encode(\"utf8\")\n",
    "        dic['desk'] = i['news_desk']\n",
    "        dic['date'] = i['pub_date'][0:10] # cutting time of day.\n",
    "        dic['section'] = i['section_name']\n",
    "        if i['snippet'] is not None:\n",
    "            dic['snippet'] = i['snippet'].encode(\"utf8\")\n",
    "        dic['source'] = i['source']\n",
    "        dic['type'] = i['type_of_material']\n",
    "        dic['url'] = i['web_url']\n",
    "        dic['word_count'] = i['word_count']\n",
    "        # locations\n",
    "        locations = []\n",
    "        for x in range(0,len(i['keywords'])):\n",
    "            if 'glocations' in i['keywords'][x]['name']:\n",
    "                locations.append(i['keywords'][x]['value'])\n",
    "        dic['locations'] = locations\n",
    "        # subject\n",
    "        subjects = []\n",
    "        for x in range(0,len(i['keywords'])):\n",
    "            if 'subject' in i['keywords'][x]['name']:\n",
    "                subjects.append(i['keywords'][x]['value'])\n",
    "        dic['subjects'] = subjects   \n",
    "        news.append(dic)\n",
    "    return(news) "
   ]
  },
  {
   "cell_type": "code",
   "execution_count": 85,
   "metadata": {},
   "outputs": [
    {
     "ename": "TypeError",
     "evalue": "'Response' object is not subscriptable",
     "output_type": "error",
     "traceback": [
      "\u001b[1;31m---------------------------------------------------------------------------\u001b[0m",
      "\u001b[1;31mTypeError\u001b[0m                                 Traceback (most recent call last)",
      "\u001b[1;32m<ipython-input-85-4ad1c9c43b50>\u001b[0m in \u001b[0;36m<module>\u001b[1;34m\u001b[0m\n\u001b[1;32m----> 1\u001b[1;33m \u001b[0mparse_articles\u001b[0m\u001b[1;33m(\u001b[0m\u001b[0marticles\u001b[0m\u001b[1;33m)\u001b[0m\u001b[1;33m\u001b[0m\u001b[1;33m\u001b[0m\u001b[0m\n\u001b[0m",
      "\u001b[1;32m<ipython-input-84-9a484be117fc>\u001b[0m in \u001b[0;36mparse_articles\u001b[1;34m(articles)\u001b[0m\n\u001b[0;32m      5\u001b[0m     '''\n\u001b[0;32m      6\u001b[0m     \u001b[0mnews\u001b[0m \u001b[1;33m=\u001b[0m \u001b[1;33m[\u001b[0m\u001b[1;33m]\u001b[0m\u001b[1;33m\u001b[0m\u001b[1;33m\u001b[0m\u001b[0m\n\u001b[1;32m----> 7\u001b[1;33m     \u001b[1;32mfor\u001b[0m \u001b[0mi\u001b[0m \u001b[1;32min\u001b[0m \u001b[0marticles\u001b[0m\u001b[1;33m[\u001b[0m\u001b[1;34m'response'\u001b[0m\u001b[1;33m]\u001b[0m\u001b[1;33m[\u001b[0m\u001b[1;34m'docs'\u001b[0m\u001b[1;33m]\u001b[0m\u001b[1;33m:\u001b[0m\u001b[1;33m\u001b[0m\u001b[1;33m\u001b[0m\u001b[0m\n\u001b[0m\u001b[0;32m      8\u001b[0m         \u001b[0mdic\u001b[0m \u001b[1;33m=\u001b[0m \u001b[1;33m{\u001b[0m\u001b[1;33m}\u001b[0m\u001b[1;33m\u001b[0m\u001b[1;33m\u001b[0m\u001b[0m\n\u001b[0;32m      9\u001b[0m         \u001b[0mdic\u001b[0m\u001b[1;33m[\u001b[0m\u001b[1;34m'id'\u001b[0m\u001b[1;33m]\u001b[0m \u001b[1;33m=\u001b[0m \u001b[0mi\u001b[0m\u001b[1;33m[\u001b[0m\u001b[1;34m'_id'\u001b[0m\u001b[1;33m]\u001b[0m\u001b[1;33m\u001b[0m\u001b[1;33m\u001b[0m\u001b[0m\n",
      "\u001b[1;31mTypeError\u001b[0m: 'Response' object is not subscriptable"
     ]
    }
   ],
   "source": [
    "parse_articles(articles)"
   ]
  },
  {
   "cell_type": "code",
   "execution_count": 70,
   "metadata": {},
   "outputs": [],
   "source": [
    "def get_articles(date,query):\n",
    "    '''\n",
    "    This function accepts a year in string format (e.g.'1980')\n",
    "    and a query (e.g.'Amnesty International') and it will \n",
    "    return a list of parsed articles (in dictionaries)\n",
    "    for that year.\n",
    "    '''\n",
    "    all_articles = []\n",
    "    for i in range(0,100): #NYT limits pager to first 100 pages. But rarely will you find over 100 pages of results anyway.\n",
    "        articles = api.search(q = query,\n",
    "#                fq = {'source':['Reuters','AP', 'The New York Times']},\n",
    "               begin_date = date + '0101',\n",
    "               end_date = date + '1231',\n",
    "               sort='oldest',\n",
    "               page = str(i))\n",
    "        articles = parse_articles(articles)\n",
    "        all_articles = all_articles + articles\n",
    "    return(all_articles)"
   ]
  },
  {
   "cell_type": "code",
   "execution_count": 71,
   "metadata": {},
   "outputs": [
    {
     "ename": "KeyError",
     "evalue": "'response'",
     "output_type": "error",
     "traceback": [
      "\u001b[1;31m---------------------------------------------------------------------------\u001b[0m",
      "\u001b[1;31mKeyError\u001b[0m                                  Traceback (most recent call last)",
      "\u001b[1;32m<ipython-input-71-3cfb2ccf9581>\u001b[0m in \u001b[0;36m<module>\u001b[1;34m\u001b[0m\n\u001b[1;32m----> 1\u001b[1;33m \u001b[0mget_articles\u001b[0m\u001b[1;33m(\u001b[0m\u001b[1;34m'2003'\u001b[0m\u001b[1;33m,\u001b[0m\u001b[1;34m'SARS'\u001b[0m\u001b[1;33m)\u001b[0m\u001b[1;33m\u001b[0m\u001b[1;33m\u001b[0m\u001b[0m\n\u001b[0m",
      "\u001b[1;32m<ipython-input-70-5cc03812c9a3>\u001b[0m in \u001b[0;36mget_articles\u001b[1;34m(date, query)\u001b[0m\n\u001b[0;32m     14\u001b[0m                \u001b[0msort\u001b[0m\u001b[1;33m=\u001b[0m\u001b[1;34m'oldest'\u001b[0m\u001b[1;33m,\u001b[0m\u001b[1;33m\u001b[0m\u001b[1;33m\u001b[0m\u001b[0m\n\u001b[0;32m     15\u001b[0m                page = str(i))\n\u001b[1;32m---> 16\u001b[1;33m         \u001b[0marticles\u001b[0m \u001b[1;33m=\u001b[0m \u001b[0mparse_articles\u001b[0m\u001b[1;33m(\u001b[0m\u001b[0marticles\u001b[0m\u001b[1;33m)\u001b[0m\u001b[1;33m\u001b[0m\u001b[1;33m\u001b[0m\u001b[0m\n\u001b[0m\u001b[0;32m     17\u001b[0m         \u001b[0mall_articles\u001b[0m \u001b[1;33m=\u001b[0m \u001b[0mall_articles\u001b[0m \u001b[1;33m+\u001b[0m \u001b[0marticles\u001b[0m\u001b[1;33m\u001b[0m\u001b[1;33m\u001b[0m\u001b[0m\n\u001b[0;32m     18\u001b[0m     \u001b[1;32mreturn\u001b[0m\u001b[1;33m(\u001b[0m\u001b[0mall_articles\u001b[0m\u001b[1;33m)\u001b[0m\u001b[1;33m\u001b[0m\u001b[1;33m\u001b[0m\u001b[0m\n",
      "\u001b[1;32m<ipython-input-67-9a484be117fc>\u001b[0m in \u001b[0;36mparse_articles\u001b[1;34m(articles)\u001b[0m\n\u001b[0;32m      5\u001b[0m     '''\n\u001b[0;32m      6\u001b[0m     \u001b[0mnews\u001b[0m \u001b[1;33m=\u001b[0m \u001b[1;33m[\u001b[0m\u001b[1;33m]\u001b[0m\u001b[1;33m\u001b[0m\u001b[1;33m\u001b[0m\u001b[0m\n\u001b[1;32m----> 7\u001b[1;33m     \u001b[1;32mfor\u001b[0m \u001b[0mi\u001b[0m \u001b[1;32min\u001b[0m \u001b[0marticles\u001b[0m\u001b[1;33m[\u001b[0m\u001b[1;34m'response'\u001b[0m\u001b[1;33m]\u001b[0m\u001b[1;33m[\u001b[0m\u001b[1;34m'docs'\u001b[0m\u001b[1;33m]\u001b[0m\u001b[1;33m:\u001b[0m\u001b[1;33m\u001b[0m\u001b[1;33m\u001b[0m\u001b[0m\n\u001b[0m\u001b[0;32m      8\u001b[0m         \u001b[0mdic\u001b[0m \u001b[1;33m=\u001b[0m \u001b[1;33m{\u001b[0m\u001b[1;33m}\u001b[0m\u001b[1;33m\u001b[0m\u001b[1;33m\u001b[0m\u001b[0m\n\u001b[0;32m      9\u001b[0m         \u001b[0mdic\u001b[0m\u001b[1;33m[\u001b[0m\u001b[1;34m'id'\u001b[0m\u001b[1;33m]\u001b[0m \u001b[1;33m=\u001b[0m \u001b[0mi\u001b[0m\u001b[1;33m[\u001b[0m\u001b[1;34m'_id'\u001b[0m\u001b[1;33m]\u001b[0m\u001b[1;33m\u001b[0m\u001b[1;33m\u001b[0m\u001b[0m\n",
      "\u001b[1;31mKeyError\u001b[0m: 'response'"
     ]
    }
   ],
   "source": [
    "get_articles('2003','SARS')"
   ]
  },
  {
   "cell_type": "code",
   "execution_count": 72,
   "metadata": {},
   "outputs": [
    {
     "ename": "SyntaxError",
     "evalue": "invalid syntax (<ipython-input-72-cb5ac759db38>, line 3)",
     "output_type": "error",
     "traceback": [
      "\u001b[1;36m  File \u001b[1;32m\"<ipython-input-72-cb5ac759db38>\"\u001b[1;36m, line \u001b[1;32m3\u001b[0m\n\u001b[1;33m    print 'Processing' + str(i) + '...'\u001b[0m\n\u001b[1;37m                     ^\u001b[0m\n\u001b[1;31mSyntaxError\u001b[0m\u001b[1;31m:\u001b[0m invalid syntax\n"
     ]
    }
   ],
   "source": [
    "Amnesty_all = []\n",
    "for i in range(1980,2014):\n",
    "    print 'Processing' + str(i) + '...'\n",
    "    Amnesty_year =  get_articles(str(i),'Amnesty International')\n",
    "    Amnesty_all = Amnesty_all + Amnesty_year"
   ]
  },
  {
   "cell_type": "code",
   "execution_count": 73,
   "metadata": {},
   "outputs": [
    {
     "data": {
      "text/plain": [
       "\u001b[1;31mSignature:\u001b[0m \u001b[0mapi\u001b[0m\u001b[1;33m.\u001b[0m\u001b[0msearch\u001b[0m\u001b[1;33m(\u001b[0m\u001b[0mresponse_format\u001b[0m\u001b[1;33m=\u001b[0m\u001b[1;32mNone\u001b[0m\u001b[1;33m,\u001b[0m \u001b[0mkey\u001b[0m\u001b[1;33m=\u001b[0m\u001b[1;32mNone\u001b[0m\u001b[1;33m,\u001b[0m \u001b[1;33m**\u001b[0m\u001b[0mkwargs\u001b[0m\u001b[1;33m)\u001b[0m\u001b[1;33m\u001b[0m\u001b[1;33m\u001b[0m\u001b[0m\n",
       "\u001b[1;31mDocstring:\u001b[0m\n",
       "Calls the API and returns a dictionary of the search results\n",
       "\n",
       ":param response_format: the format that the API uses for its response, \n",
       "                        includes JSON (.json) and JSONP (.jsonp). \n",
       "                        Defaults to '.json'.\n",
       "                        \n",
       ":param key: a developer key. Defaults to key given when the articleAPI class was initialized.\n",
       "\u001b[1;31mFile:\u001b[0m      c:\\users\\travi\\anaconda3\\lib\\site-packages\\nytimesarticle.py\n",
       "\u001b[1;31mType:\u001b[0m      method\n"
      ]
     },
     "metadata": {},
     "output_type": "display_data"
    }
   ],
   "source": [
    "api.search?"
   ]
  },
  {
   "cell_type": "code",
   "execution_count": null,
   "metadata": {},
   "outputs": [],
   "source": []
  },
  {
   "cell_type": "code",
   "execution_count": 49,
   "metadata": {},
   "outputs": [
    {
     "ename": "NameError",
     "evalue": "name 'ArticleAPI' is not defined",
     "output_type": "error",
     "traceback": [
      "\u001b[1;31m---------------------------------------------------------------------------\u001b[0m",
      "\u001b[1;31mNameError\u001b[0m                                 Traceback (most recent call last)",
      "\u001b[1;32m<ipython-input-49-9688f1d24953>\u001b[0m in \u001b[0;36m<module>\u001b[1;34m\u001b[0m\n\u001b[1;32m----> 1\u001b[1;33m \u001b[0mArticleAPI\u001b[0m\u001b[1;33m\u001b[0m\u001b[1;33m\u001b[0m\u001b[0m\n\u001b[0m",
      "\u001b[1;31mNameError\u001b[0m: name 'ArticleAPI' is not defined"
     ]
    }
   ],
   "source": []
  },
  {
   "cell_type": "code",
   "execution_count": 63,
   "metadata": {},
   "outputs": [
    {
     "data": {
      "text/plain": [
       "nytimesarticle.articleAPI"
      ]
     },
     "execution_count": 63,
     "metadata": {},
     "output_type": "execute_result"
    }
   ],
   "source": [
    "articleAPI"
   ]
  },
  {
   "cell_type": "code",
   "execution_count": 74,
   "metadata": {},
   "outputs": [
    {
     "name": "stdout",
     "output_type": "stream",
     "text": [
      "Object `nytimesarticle` not found.\n"
     ]
    }
   ],
   "source": []
  },
  {
   "cell_type": "code",
   "execution_count": null,
   "metadata": {},
   "outputs": [],
   "source": []
  }
 ],
 "metadata": {
  "kernelspec": {
   "display_name": "Python 3",
   "language": "python",
   "name": "python3"
  },
  "language_info": {
   "codemirror_mode": {
    "name": "ipython",
    "version": 3
   },
   "file_extension": ".py",
   "mimetype": "text/x-python",
   "name": "python",
   "nbconvert_exporter": "python",
   "pygments_lexer": "ipython3",
   "version": "3.7.6"
  }
 },
 "nbformat": 4,
 "nbformat_minor": 4
}
